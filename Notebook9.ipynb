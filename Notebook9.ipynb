{
 "cells": [
  {
   "cell_type": "markdown",
   "id": "ad624366",
   "metadata": {},
   "source": [
    "### Link de Material Complementario\n",
    "https://1drv.ms/f/s!Anh5cvrOJtUTk947pH1XrDYR6wgQcw?e=iQtQzS"
   ]
  },
  {
   "cell_type": "code",
   "execution_count": 1,
   "id": "48b21078",
   "metadata": {},
   "outputs": [],
   "source": [
    "import pandas as pd\n",
    "import numpy as np"
   ]
  },
  {
   "cell_type": "code",
   "execution_count": 2,
   "id": "563145d3",
   "metadata": {},
   "outputs": [
    {
     "data": {
      "text/html": [
       "<div>\n",
       "<style scoped>\n",
       "    .dataframe tbody tr th:only-of-type {\n",
       "        vertical-align: middle;\n",
       "    }\n",
       "\n",
       "    .dataframe tbody tr th {\n",
       "        vertical-align: top;\n",
       "    }\n",
       "\n",
       "    .dataframe thead th {\n",
       "        text-align: right;\n",
       "    }\n",
       "</style>\n",
       "<table border=\"1\" class=\"dataframe\">\n",
       "  <thead>\n",
       "    <tr style=\"text-align: right;\">\n",
       "      <th></th>\n",
       "      <th>PassengerId</th>\n",
       "      <th>Survived</th>\n",
       "      <th>Pclass</th>\n",
       "      <th>Name</th>\n",
       "      <th>Sex</th>\n",
       "      <th>Age</th>\n",
       "      <th>SibSp</th>\n",
       "      <th>Parch</th>\n",
       "      <th>Ticket</th>\n",
       "      <th>Fare</th>\n",
       "      <th>Cabin</th>\n",
       "      <th>Embarked</th>\n",
       "    </tr>\n",
       "  </thead>\n",
       "  <tbody>\n",
       "    <tr>\n",
       "      <th>0</th>\n",
       "      <td>1</td>\n",
       "      <td>0</td>\n",
       "      <td>3</td>\n",
       "      <td>Braund, Mr. Owen Harris</td>\n",
       "      <td>male</td>\n",
       "      <td>22.0</td>\n",
       "      <td>1</td>\n",
       "      <td>0</td>\n",
       "      <td>A/5 21171</td>\n",
       "      <td>7.2500</td>\n",
       "      <td>NaN</td>\n",
       "      <td>S</td>\n",
       "    </tr>\n",
       "    <tr>\n",
       "      <th>1</th>\n",
       "      <td>2</td>\n",
       "      <td>1</td>\n",
       "      <td>1</td>\n",
       "      <td>Cumings, Mrs. John Bradley (Florence Briggs Th...</td>\n",
       "      <td>female</td>\n",
       "      <td>38.0</td>\n",
       "      <td>1</td>\n",
       "      <td>0</td>\n",
       "      <td>PC 17599</td>\n",
       "      <td>71.2833</td>\n",
       "      <td>C85</td>\n",
       "      <td>C</td>\n",
       "    </tr>\n",
       "    <tr>\n",
       "      <th>2</th>\n",
       "      <td>3</td>\n",
       "      <td>1</td>\n",
       "      <td>3</td>\n",
       "      <td>Heikkinen, Miss. Laina</td>\n",
       "      <td>female</td>\n",
       "      <td>26.0</td>\n",
       "      <td>0</td>\n",
       "      <td>0</td>\n",
       "      <td>STON/O2. 3101282</td>\n",
       "      <td>7.9250</td>\n",
       "      <td>NaN</td>\n",
       "      <td>S</td>\n",
       "    </tr>\n",
       "    <tr>\n",
       "      <th>3</th>\n",
       "      <td>4</td>\n",
       "      <td>1</td>\n",
       "      <td>1</td>\n",
       "      <td>Futrelle, Mrs. Jacques Heath (Lily May Peel)</td>\n",
       "      <td>female</td>\n",
       "      <td>35.0</td>\n",
       "      <td>1</td>\n",
       "      <td>0</td>\n",
       "      <td>113803</td>\n",
       "      <td>53.1000</td>\n",
       "      <td>C123</td>\n",
       "      <td>S</td>\n",
       "    </tr>\n",
       "    <tr>\n",
       "      <th>4</th>\n",
       "      <td>5</td>\n",
       "      <td>0</td>\n",
       "      <td>3</td>\n",
       "      <td>Allen, Mr. William Henry</td>\n",
       "      <td>male</td>\n",
       "      <td>35.0</td>\n",
       "      <td>0</td>\n",
       "      <td>0</td>\n",
       "      <td>373450</td>\n",
       "      <td>8.0500</td>\n",
       "      <td>NaN</td>\n",
       "      <td>S</td>\n",
       "    </tr>\n",
       "    <tr>\n",
       "      <th>...</th>\n",
       "      <td>...</td>\n",
       "      <td>...</td>\n",
       "      <td>...</td>\n",
       "      <td>...</td>\n",
       "      <td>...</td>\n",
       "      <td>...</td>\n",
       "      <td>...</td>\n",
       "      <td>...</td>\n",
       "      <td>...</td>\n",
       "      <td>...</td>\n",
       "      <td>...</td>\n",
       "      <td>...</td>\n",
       "    </tr>\n",
       "    <tr>\n",
       "      <th>886</th>\n",
       "      <td>887</td>\n",
       "      <td>0</td>\n",
       "      <td>2</td>\n",
       "      <td>Montvila, Rev. Juozas</td>\n",
       "      <td>male</td>\n",
       "      <td>27.0</td>\n",
       "      <td>0</td>\n",
       "      <td>0</td>\n",
       "      <td>211536</td>\n",
       "      <td>13.0000</td>\n",
       "      <td>NaN</td>\n",
       "      <td>S</td>\n",
       "    </tr>\n",
       "    <tr>\n",
       "      <th>887</th>\n",
       "      <td>888</td>\n",
       "      <td>1</td>\n",
       "      <td>1</td>\n",
       "      <td>Graham, Miss. Margaret Edith</td>\n",
       "      <td>female</td>\n",
       "      <td>19.0</td>\n",
       "      <td>0</td>\n",
       "      <td>0</td>\n",
       "      <td>112053</td>\n",
       "      <td>30.0000</td>\n",
       "      <td>B42</td>\n",
       "      <td>S</td>\n",
       "    </tr>\n",
       "    <tr>\n",
       "      <th>888</th>\n",
       "      <td>889</td>\n",
       "      <td>0</td>\n",
       "      <td>3</td>\n",
       "      <td>Johnston, Miss. Catherine Helen \"Carrie\"</td>\n",
       "      <td>female</td>\n",
       "      <td>NaN</td>\n",
       "      <td>1</td>\n",
       "      <td>2</td>\n",
       "      <td>W./C. 6607</td>\n",
       "      <td>23.4500</td>\n",
       "      <td>NaN</td>\n",
       "      <td>S</td>\n",
       "    </tr>\n",
       "    <tr>\n",
       "      <th>889</th>\n",
       "      <td>890</td>\n",
       "      <td>1</td>\n",
       "      <td>1</td>\n",
       "      <td>Behr, Mr. Karl Howell</td>\n",
       "      <td>male</td>\n",
       "      <td>26.0</td>\n",
       "      <td>0</td>\n",
       "      <td>0</td>\n",
       "      <td>111369</td>\n",
       "      <td>30.0000</td>\n",
       "      <td>C148</td>\n",
       "      <td>C</td>\n",
       "    </tr>\n",
       "    <tr>\n",
       "      <th>890</th>\n",
       "      <td>891</td>\n",
       "      <td>0</td>\n",
       "      <td>3</td>\n",
       "      <td>Dooley, Mr. Patrick</td>\n",
       "      <td>male</td>\n",
       "      <td>32.0</td>\n",
       "      <td>0</td>\n",
       "      <td>0</td>\n",
       "      <td>370376</td>\n",
       "      <td>7.7500</td>\n",
       "      <td>NaN</td>\n",
       "      <td>Q</td>\n",
       "    </tr>\n",
       "  </tbody>\n",
       "</table>\n",
       "<p>891 rows × 12 columns</p>\n",
       "</div>"
      ],
      "text/plain": [
       "     PassengerId  Survived  Pclass  \\\n",
       "0              1         0       3   \n",
       "1              2         1       1   \n",
       "2              3         1       3   \n",
       "3              4         1       1   \n",
       "4              5         0       3   \n",
       "..           ...       ...     ...   \n",
       "886          887         0       2   \n",
       "887          888         1       1   \n",
       "888          889         0       3   \n",
       "889          890         1       1   \n",
       "890          891         0       3   \n",
       "\n",
       "                                                  Name     Sex   Age  SibSp  \\\n",
       "0                              Braund, Mr. Owen Harris    male  22.0      1   \n",
       "1    Cumings, Mrs. John Bradley (Florence Briggs Th...  female  38.0      1   \n",
       "2                               Heikkinen, Miss. Laina  female  26.0      0   \n",
       "3         Futrelle, Mrs. Jacques Heath (Lily May Peel)  female  35.0      1   \n",
       "4                             Allen, Mr. William Henry    male  35.0      0   \n",
       "..                                                 ...     ...   ...    ...   \n",
       "886                              Montvila, Rev. Juozas    male  27.0      0   \n",
       "887                       Graham, Miss. Margaret Edith  female  19.0      0   \n",
       "888           Johnston, Miss. Catherine Helen \"Carrie\"  female   NaN      1   \n",
       "889                              Behr, Mr. Karl Howell    male  26.0      0   \n",
       "890                                Dooley, Mr. Patrick    male  32.0      0   \n",
       "\n",
       "     Parch            Ticket     Fare Cabin Embarked  \n",
       "0        0         A/5 21171   7.2500   NaN        S  \n",
       "1        0          PC 17599  71.2833   C85        C  \n",
       "2        0  STON/O2. 3101282   7.9250   NaN        S  \n",
       "3        0            113803  53.1000  C123        S  \n",
       "4        0            373450   8.0500   NaN        S  \n",
       "..     ...               ...      ...   ...      ...  \n",
       "886      0            211536  13.0000   NaN        S  \n",
       "887      0            112053  30.0000   B42        S  \n",
       "888      2        W./C. 6607  23.4500   NaN        S  \n",
       "889      0            111369  30.0000  C148        C  \n",
       "890      0            370376   7.7500   NaN        Q  \n",
       "\n",
       "[891 rows x 12 columns]"
      ]
     },
     "execution_count": 2,
     "metadata": {},
     "output_type": "execute_result"
    }
   ],
   "source": [
    "data = pd.read_csv('titanic.csv')\n",
    "data"
   ]
  },
  {
   "cell_type": "markdown",
   "id": "9aa4d565",
   "metadata": {},
   "source": [
    "# Modulo 5.- Pandas 6"
   ]
  },
  {
   "cell_type": "markdown",
   "id": "e561aea5",
   "metadata": {},
   "source": [
    "## 6.1. Groupby\n",
    "Como hemos visto, es muy fácil hacer estadísticas sobre  columnas de un dataframe. Pero muchas veces estamos  interesados en realizar estadísticas a subconjuntos de  esos datos según la categoría a la que pertenezcan. Por  ejemplo, encontrar el promedio de edad para hombres y  mujeres, o para hombres y mujeres divididos también por  la clase en la que viajaban.\n",
    "\n",
    "Para este tipo de operaciones existe el método groupby,  que permite hacer los agrupamientos de una forma  eﬁciente y sencilla. Este método crea una estructura de  datos particular a la que le podemos aplicar diferentes  operaciones estadísticas.      \n",
    "**Sólo cuando aplicamos estas  operaciones se devuelve un dataframe con la información.**"
   ]
  },
  {
   "cell_type": "code",
   "execution_count": 3,
   "id": "9a667fc7",
   "metadata": {},
   "outputs": [
    {
     "data": {
      "text/html": [
       "<div>\n",
       "<style scoped>\n",
       "    .dataframe tbody tr th:only-of-type {\n",
       "        vertical-align: middle;\n",
       "    }\n",
       "\n",
       "    .dataframe tbody tr th {\n",
       "        vertical-align: top;\n",
       "    }\n",
       "\n",
       "    .dataframe thead th {\n",
       "        text-align: right;\n",
       "    }\n",
       "</style>\n",
       "<table border=\"1\" class=\"dataframe\">\n",
       "  <thead>\n",
       "    <tr style=\"text-align: right;\">\n",
       "      <th></th>\n",
       "      <th>PassengerId</th>\n",
       "      <th>Survived</th>\n",
       "      <th>Pclass</th>\n",
       "      <th>Name</th>\n",
       "      <th>Age</th>\n",
       "      <th>SibSp</th>\n",
       "      <th>Parch</th>\n",
       "      <th>Ticket</th>\n",
       "      <th>Fare</th>\n",
       "      <th>Cabin</th>\n",
       "      <th>Embarked</th>\n",
       "    </tr>\n",
       "    <tr>\n",
       "      <th>Sex</th>\n",
       "      <th></th>\n",
       "      <th></th>\n",
       "      <th></th>\n",
       "      <th></th>\n",
       "      <th></th>\n",
       "      <th></th>\n",
       "      <th></th>\n",
       "      <th></th>\n",
       "      <th></th>\n",
       "      <th></th>\n",
       "      <th></th>\n",
       "    </tr>\n",
       "  </thead>\n",
       "  <tbody>\n",
       "    <tr>\n",
       "      <th>female</th>\n",
       "      <td>314</td>\n",
       "      <td>314</td>\n",
       "      <td>314</td>\n",
       "      <td>314</td>\n",
       "      <td>261</td>\n",
       "      <td>314</td>\n",
       "      <td>314</td>\n",
       "      <td>314</td>\n",
       "      <td>314</td>\n",
       "      <td>97</td>\n",
       "      <td>312</td>\n",
       "    </tr>\n",
       "    <tr>\n",
       "      <th>male</th>\n",
       "      <td>577</td>\n",
       "      <td>577</td>\n",
       "      <td>577</td>\n",
       "      <td>577</td>\n",
       "      <td>453</td>\n",
       "      <td>577</td>\n",
       "      <td>577</td>\n",
       "      <td>577</td>\n",
       "      <td>577</td>\n",
       "      <td>107</td>\n",
       "      <td>577</td>\n",
       "    </tr>\n",
       "  </tbody>\n",
       "</table>\n",
       "</div>"
      ],
      "text/plain": [
       "        PassengerId  Survived  Pclass  Name  Age  SibSp  Parch  Ticket  Fare  \\\n",
       "Sex                                                                            \n",
       "female          314       314     314   314  261    314    314     314   314   \n",
       "male            577       577     577   577  453    577    577     577   577   \n",
       "\n",
       "        Cabin  Embarked  \n",
       "Sex                      \n",
       "female     97       312  \n",
       "male      107       577  "
      ]
     },
     "execution_count": 3,
     "metadata": {},
     "output_type": "execute_result"
    }
   ],
   "source": [
    "data.groupby('Sex').count()"
   ]
  },
  {
   "cell_type": "markdown",
   "id": "ff11a92b",
   "metadata": {},
   "source": [
    "Si la operación a realizar solamente admite números, se aplica a las  columnas numéricas exclusivamente."
   ]
  },
  {
   "cell_type": "code",
   "execution_count": 4,
   "id": "cea7695e",
   "metadata": {},
   "outputs": [
    {
     "data": {
      "text/html": [
       "<div>\n",
       "<style scoped>\n",
       "    .dataframe tbody tr th:only-of-type {\n",
       "        vertical-align: middle;\n",
       "    }\n",
       "\n",
       "    .dataframe tbody tr th {\n",
       "        vertical-align: top;\n",
       "    }\n",
       "\n",
       "    .dataframe thead th {\n",
       "        text-align: right;\n",
       "    }\n",
       "</style>\n",
       "<table border=\"1\" class=\"dataframe\">\n",
       "  <thead>\n",
       "    <tr style=\"text-align: right;\">\n",
       "      <th></th>\n",
       "      <th>PassengerId</th>\n",
       "      <th>Survived</th>\n",
       "      <th>Pclass</th>\n",
       "      <th>Age</th>\n",
       "      <th>SibSp</th>\n",
       "      <th>Parch</th>\n",
       "      <th>Fare</th>\n",
       "    </tr>\n",
       "    <tr>\n",
       "      <th>Sex</th>\n",
       "      <th></th>\n",
       "      <th></th>\n",
       "      <th></th>\n",
       "      <th></th>\n",
       "      <th></th>\n",
       "      <th></th>\n",
       "      <th></th>\n",
       "    </tr>\n",
       "  </thead>\n",
       "  <tbody>\n",
       "    <tr>\n",
       "      <th>female</th>\n",
       "      <td>431.028662</td>\n",
       "      <td>0.742038</td>\n",
       "      <td>2.159236</td>\n",
       "      <td>27.915709</td>\n",
       "      <td>0.694268</td>\n",
       "      <td>0.649682</td>\n",
       "      <td>44.479818</td>\n",
       "    </tr>\n",
       "    <tr>\n",
       "      <th>male</th>\n",
       "      <td>454.147314</td>\n",
       "      <td>0.188908</td>\n",
       "      <td>2.389948</td>\n",
       "      <td>30.726645</td>\n",
       "      <td>0.429809</td>\n",
       "      <td>0.235702</td>\n",
       "      <td>25.523893</td>\n",
       "    </tr>\n",
       "  </tbody>\n",
       "</table>\n",
       "</div>"
      ],
      "text/plain": [
       "        PassengerId  Survived    Pclass        Age     SibSp     Parch  \\\n",
       "Sex                                                                      \n",
       "female   431.028662  0.742038  2.159236  27.915709  0.694268  0.649682   \n",
       "male     454.147314  0.188908  2.389948  30.726645  0.429809  0.235702   \n",
       "\n",
       "             Fare  \n",
       "Sex                \n",
       "female  44.479818  \n",
       "male    25.523893  "
      ]
     },
     "execution_count": 4,
     "metadata": {},
     "output_type": "execute_result"
    }
   ],
   "source": [
    "data.groupby('Sex').mean()"
   ]
  },
  {
   "cell_type": "code",
   "execution_count": 5,
   "id": "f49c2d04",
   "metadata": {},
   "outputs": [
    {
     "data": {
      "text/html": [
       "<div>\n",
       "<style scoped>\n",
       "    .dataframe tbody tr th:only-of-type {\n",
       "        vertical-align: middle;\n",
       "    }\n",
       "\n",
       "    .dataframe tbody tr th {\n",
       "        vertical-align: top;\n",
       "    }\n",
       "\n",
       "    .dataframe thead th {\n",
       "        text-align: right;\n",
       "    }\n",
       "</style>\n",
       "<table border=\"1\" class=\"dataframe\">\n",
       "  <thead>\n",
       "    <tr style=\"text-align: right;\">\n",
       "      <th></th>\n",
       "      <th>Age</th>\n",
       "    </tr>\n",
       "    <tr>\n",
       "      <th>Sex</th>\n",
       "      <th></th>\n",
       "    </tr>\n",
       "  </thead>\n",
       "  <tbody>\n",
       "    <tr>\n",
       "      <th>female</th>\n",
       "      <td>27.915709</td>\n",
       "    </tr>\n",
       "    <tr>\n",
       "      <th>male</th>\n",
       "      <td>30.726645</td>\n",
       "    </tr>\n",
       "  </tbody>\n",
       "</table>\n",
       "</div>"
      ],
      "text/plain": [
       "              Age\n",
       "Sex              \n",
       "female  27.915709\n",
       "male    30.726645"
      ]
     },
     "execution_count": 5,
     "metadata": {},
     "output_type": "execute_result"
    }
   ],
   "source": [
    "# promedio de edad segun sexo\n",
    "data[['Age', 'Sex']].groupby('Sex').mean()"
   ]
  },
  {
   "cell_type": "code",
   "execution_count": 6,
   "id": "c1842706",
   "metadata": {},
   "outputs": [
    {
     "data": {
      "text/html": [
       "<div>\n",
       "<style scoped>\n",
       "    .dataframe tbody tr th:only-of-type {\n",
       "        vertical-align: middle;\n",
       "    }\n",
       "\n",
       "    .dataframe tbody tr th {\n",
       "        vertical-align: top;\n",
       "    }\n",
       "\n",
       "    .dataframe thead th {\n",
       "        text-align: right;\n",
       "    }\n",
       "</style>\n",
       "<table border=\"1\" class=\"dataframe\">\n",
       "  <thead>\n",
       "    <tr style=\"text-align: right;\">\n",
       "      <th></th>\n",
       "      <th></th>\n",
       "      <th>Age</th>\n",
       "    </tr>\n",
       "    <tr>\n",
       "      <th>Pclass</th>\n",
       "      <th>Sex</th>\n",
       "      <th></th>\n",
       "    </tr>\n",
       "  </thead>\n",
       "  <tbody>\n",
       "    <tr>\n",
       "      <th rowspan=\"2\" valign=\"top\">1</th>\n",
       "      <th>female</th>\n",
       "      <td>34.611765</td>\n",
       "    </tr>\n",
       "    <tr>\n",
       "      <th>male</th>\n",
       "      <td>41.281386</td>\n",
       "    </tr>\n",
       "    <tr>\n",
       "      <th rowspan=\"2\" valign=\"top\">2</th>\n",
       "      <th>female</th>\n",
       "      <td>28.722973</td>\n",
       "    </tr>\n",
       "    <tr>\n",
       "      <th>male</th>\n",
       "      <td>30.740707</td>\n",
       "    </tr>\n",
       "    <tr>\n",
       "      <th rowspan=\"2\" valign=\"top\">3</th>\n",
       "      <th>female</th>\n",
       "      <td>21.750000</td>\n",
       "    </tr>\n",
       "    <tr>\n",
       "      <th>male</th>\n",
       "      <td>26.507589</td>\n",
       "    </tr>\n",
       "  </tbody>\n",
       "</table>\n",
       "</div>"
      ],
      "text/plain": [
       "                     Age\n",
       "Pclass Sex              \n",
       "1      female  34.611765\n",
       "       male    41.281386\n",
       "2      female  28.722973\n",
       "       male    30.740707\n",
       "3      female  21.750000\n",
       "       male    26.507589"
      ]
     },
     "execution_count": 6,
     "metadata": {},
     "output_type": "execute_result"
    }
   ],
   "source": [
    "data[['Pclass', 'Sex', 'Age']].groupby(['Pclass', 'Sex']).mean()"
   ]
  },
  {
   "cell_type": "markdown",
   "id": "0efaffc0",
   "metadata": {},
   "source": [
    "# Modulo 5.- Pandas 7"
   ]
  },
  {
   "cell_type": "markdown",
   "id": "5ddedffc",
   "metadata": {},
   "source": [
    "## 7.1. Gráficos\n",
    "Pandas ofrece muchas facilidades para hacer gráﬁcos de  manera sencilla. Se basa en Matplotlib, el principal  módulo de gráﬁcos de Python, que estudiaremos la  próxima clase, para realizar los gráﬁcos.\n",
    "\n",
    "Podemos acceder a las funcionalidades para graﬁcar a  través del método plot. Permite acceder a distintos tipos  de gráﬁcos de forma sencilla. Por ejemplo, se pueden  hacer histogramas con plot.hist(), gráﬁcos de barras  con plt.bar, y de torta con plt.pie()."
   ]
  },
  {
   "cell_type": "markdown",
   "id": "1c1fd7c2",
   "metadata": {},
   "source": [
    "### 7.1.1. Histogramas\n",
    "Un histograma es una representación  de la distribución de un conjunto de  números. El rango se divide en barras  y la altura de la barra es proporcional a  la cantidad de datos que entran en el  rango de la barra (ancho). Se puede  deﬁnir la cantidad de barras a mostrar."
   ]
  },
  {
   "cell_type": "code",
   "execution_count": 7,
   "id": "fc7bcd72",
   "metadata": {},
   "outputs": [
    {
     "data": {
      "text/plain": [
       "<AxesSubplot:ylabel='Frequency'>"
      ]
     },
     "execution_count": 7,
     "metadata": {},
     "output_type": "execute_result"
    },
    {
     "data": {
      "image/png": "[encoded data removed]",
      "text/plain": [
       "<Figure size 640x480 with 1 Axes>"
      ]
     },
     "metadata": {},
     "output_type": "display_data"
    }
   ],
   "source": [
    "data['Age'].plot.hist()"
   ]
  },
  {
   "cell_type": "markdown",
   "id": "9c67b8f6",
   "metadata": {},
   "source": [
    "Los métodos vienen con algunos parámetros para controlar el  aspecto del gráﬁco."
   ]
  },
  {
   "cell_type": "code",
   "execution_count": 8,
   "id": "e0008e62",
   "metadata": {},
   "outputs": [
    {
     "data": {
      "text/plain": [
       "<AxesSubplot:title={'center':'Distribucion de edades'}, ylabel='Frequency'>"
      ]
     },
     "execution_count": 8,
     "metadata": {},
     "output_type": "execute_result"
    },
    {
     "data": {
      "image/png": "[encoded data removed]",
      "text/plain": [
       "<Figure size 640x480 with 1 Axes>"
      ]
     },
     "metadata": {},
     "output_type": "display_data"
    }
   ],
   "source": [
    "data['Age'].plot.hist(bins = 20, title = 'Distribucion de edades', legend = True, color = 'red', edgecolor = 'black')"
   ]
  },
  {
   "cell_type": "markdown",
   "id": "bb7e32dc",
   "metadata": {},
   "source": [
    "### 7.1.2. Gráfico de Barras\n",
    "Este tipo de gráﬁcos muestra barras de altura variable. En general, son útiles para  mostrar estadísticas tomadas por categorías por medio de groupby."
   ]
  },
  {
   "cell_type": "code",
   "execution_count": 9,
   "id": "beb9d98a",
   "metadata": {},
   "outputs": [
    {
     "data": {
      "text/plain": [
       "<AxesSubplot:xlabel='Sex'>"
      ]
     },
     "execution_count": 9,
     "metadata": {},
     "output_type": "execute_result"
    },
    {
     "data": {
      "image/png": "[encoded data removed]",
      "text/plain": [
       "<Figure size 640x480 with 1 Axes>"
      ]
     },
     "metadata": {},
     "output_type": "display_data"
    }
   ],
   "source": [
    "data.groupby('Sex').size().plot.bar()"
   ]
  },
  {
   "cell_type": "code",
   "execution_count": 10,
   "id": "5ee4c10b",
   "metadata": {},
   "outputs": [
    {
     "data": {
      "text/plain": [
       "<AxesSubplot:xlabel='Sex'>"
      ]
     },
     "execution_count": 10,
     "metadata": {},
     "output_type": "execute_result"
    },
    {
     "data": {
      "image/png": "[encoded data removed]",
      "text/plain": [
       "<Figure size 640x480 with 1 Axes>"
      ]
     },
     "metadata": {},
     "output_type": "display_data"
    }
   ],
   "source": [
    "data.groupby('Sex')['Survived'].sum().plot.bar(color = 'red', edgecolor = 'black' )"
   ]
  },
  {
   "cell_type": "markdown",
   "id": "377fd725",
   "metadata": {},
   "source": [
    "### 7.1.3. Gráfico de Torta\n",
    "Otra forma de representar  este tipo de información  es el gráﬁco de tortas,  donde el área de la cuña  es proporcional al número  que representa."
   ]
  },
  {
   "cell_type": "code",
   "execution_count": 11,
   "id": "a7e3e793",
   "metadata": {},
   "outputs": [
    {
     "data": {
      "text/plain": [
       "<AxesSubplot:title={'center':'Proporcion de hombres y mujeres'}, ylabel='None'>"
      ]
     },
     "execution_count": 11,
     "metadata": {},
     "output_type": "execute_result"
    },
    {
     "data": {
      "image/png": "[encoded data removed]",
      "text/plain": [
       "<Figure size 640x480 with 1 Axes>"
      ]
     },
     "metadata": {},
     "output_type": "display_data"
    }
   ],
   "source": [
    "data.groupby('Sex').size().plot.pie(title = 'Proporcion de hombres y mujeres')"
   ]
  },
  {
   "cell_type": "markdown",
   "id": "f7134283",
   "metadata": {},
   "source": [
    "### 7.1.3. Gráfico de Lineas\n",
    "Si los datos están ordenados se puede usar plot  para representarlos sobre una línea en donde el  eje x es el índice de la serie y el eje y es el valor.\n",
    "\n",
    "Si este método se aplica sobre un dataframe, las  columnas numéricas se muestran en el mismo  gráﬁco compartiendo el eje x. A continuación  creamos un dataset para practicar."
   ]
  },
  {
   "cell_type": "markdown",
   "id": "1918d037",
   "metadata": {},
   "source": [
    "### Ejemplo metodo cumsum(axis = 0)"
   ]
  },
  {
   "cell_type": "code",
   "execution_count": 12,
   "id": "d841eee9",
   "metadata": {},
   "outputs": [
    {
     "name": "stdout",
     "output_type": "stream",
     "text": [
      "   A  B\n",
      "0  1  4\n",
      "1  2  5\n",
      "2  3  6\n"
     ]
    }
   ],
   "source": [
    "data = {'A': [1, 2, 3], 'B': [4, 5, 6]}\n",
    "df = pd.DataFrame(data)\n",
    "\n",
    "print(df)"
   ]
  },
  {
   "cell_type": "code",
   "execution_count": 13,
   "id": "fa028584",
   "metadata": {},
   "outputs": [
    {
     "name": "stdout",
     "output_type": "stream",
     "text": [
      "   A   B\n",
      "0  1   4\n",
      "1  3   9\n",
      "2  6  15\n"
     ]
    }
   ],
   "source": [
    "cumulative_sum = df.cumsum(axis=0)\n",
    "print(cumulative_sum)"
   ]
  },
  {
   "cell_type": "code",
   "execution_count": 14,
   "id": "4658f63c",
   "metadata": {},
   "outputs": [
    {
     "data": {
      "text/plain": [
       "array([[  1.0783927 ,  -0.37319064,   1.60014418,  -0.50047376],\n",
       "       [  3.13067388,   0.30966284,   2.15370397,  -0.48680447],\n",
       "       [  2.61504809,  -0.89801415,   1.6741593 ,  -0.34890828],\n",
       "       ...,\n",
       "       [ 57.73574852,  39.22643418, -18.86316603, -10.994788  ],\n",
       "       [ 56.19633026,  40.25133807, -19.48531995, -12.75792406],\n",
       "       [ 57.75985906,  40.56670786, -20.07758275, -13.27453605]])"
      ]
     },
     "execution_count": 14,
     "metadata": {},
     "output_type": "execute_result"
    }
   ],
   "source": [
    "arr = np.random.randn(1000,4).cumsum(axis = 0)\n",
    "arr"
   ]
  },
  {
   "cell_type": "code",
   "execution_count": 15,
   "id": "59214163",
   "metadata": {},
   "outputs": [
    {
     "data": {
      "text/html": [
       "<div>\n",
       "<style scoped>\n",
       "    .dataframe tbody tr th:only-of-type {\n",
       "        vertical-align: middle;\n",
       "    }\n",
       "\n",
       "    .dataframe tbody tr th {\n",
       "        vertical-align: top;\n",
       "    }\n",
       "\n",
       "    .dataframe thead th {\n",
       "        text-align: right;\n",
       "    }\n",
       "</style>\n",
       "<table border=\"1\" class=\"dataframe\">\n",
       "  <thead>\n",
       "    <tr style=\"text-align: right;\">\n",
       "      <th></th>\n",
       "      <th>A</th>\n",
       "      <th>B</th>\n",
       "      <th>C</th>\n",
       "      <th>D</th>\n",
       "    </tr>\n",
       "  </thead>\n",
       "  <tbody>\n",
       "    <tr>\n",
       "      <th>0</th>\n",
       "      <td>1.078393</td>\n",
       "      <td>-0.373191</td>\n",
       "      <td>1.600144</td>\n",
       "      <td>-0.500474</td>\n",
       "    </tr>\n",
       "    <tr>\n",
       "      <th>1</th>\n",
       "      <td>3.130674</td>\n",
       "      <td>0.309663</td>\n",
       "      <td>2.153704</td>\n",
       "      <td>-0.486804</td>\n",
       "    </tr>\n",
       "    <tr>\n",
       "      <th>2</th>\n",
       "      <td>2.615048</td>\n",
       "      <td>-0.898014</td>\n",
       "      <td>1.674159</td>\n",
       "      <td>-0.348908</td>\n",
       "    </tr>\n",
       "    <tr>\n",
       "      <th>3</th>\n",
       "      <td>1.466041</td>\n",
       "      <td>-1.132327</td>\n",
       "      <td>1.932099</td>\n",
       "      <td>-0.544221</td>\n",
       "    </tr>\n",
       "    <tr>\n",
       "      <th>4</th>\n",
       "      <td>2.122844</td>\n",
       "      <td>-0.733667</td>\n",
       "      <td>2.381256</td>\n",
       "      <td>-0.553193</td>\n",
       "    </tr>\n",
       "    <tr>\n",
       "      <th>...</th>\n",
       "      <td>...</td>\n",
       "      <td>...</td>\n",
       "      <td>...</td>\n",
       "      <td>...</td>\n",
       "    </tr>\n",
       "    <tr>\n",
       "      <th>995</th>\n",
       "      <td>58.112197</td>\n",
       "      <td>36.968652</td>\n",
       "      <td>-18.027673</td>\n",
       "      <td>-8.612001</td>\n",
       "    </tr>\n",
       "    <tr>\n",
       "      <th>996</th>\n",
       "      <td>58.756146</td>\n",
       "      <td>38.725636</td>\n",
       "      <td>-16.611360</td>\n",
       "      <td>-9.425671</td>\n",
       "    </tr>\n",
       "    <tr>\n",
       "      <th>997</th>\n",
       "      <td>57.735749</td>\n",
       "      <td>39.226434</td>\n",
       "      <td>-18.863166</td>\n",
       "      <td>-10.994788</td>\n",
       "    </tr>\n",
       "    <tr>\n",
       "      <th>998</th>\n",
       "      <td>56.196330</td>\n",
       "      <td>40.251338</td>\n",
       "      <td>-19.485320</td>\n",
       "      <td>-12.757924</td>\n",
       "    </tr>\n",
       "    <tr>\n",
       "      <th>999</th>\n",
       "      <td>57.759859</td>\n",
       "      <td>40.566708</td>\n",
       "      <td>-20.077583</td>\n",
       "      <td>-13.274536</td>\n",
       "    </tr>\n",
       "  </tbody>\n",
       "</table>\n",
       "<p>1000 rows × 4 columns</p>\n",
       "</div>"
      ],
      "text/plain": [
       "             A          B          C          D\n",
       "0     1.078393  -0.373191   1.600144  -0.500474\n",
       "1     3.130674   0.309663   2.153704  -0.486804\n",
       "2     2.615048  -0.898014   1.674159  -0.348908\n",
       "3     1.466041  -1.132327   1.932099  -0.544221\n",
       "4     2.122844  -0.733667   2.381256  -0.553193\n",
       "..         ...        ...        ...        ...\n",
       "995  58.112197  36.968652 -18.027673  -8.612001\n",
       "996  58.756146  38.725636 -16.611360  -9.425671\n",
       "997  57.735749  39.226434 -18.863166 -10.994788\n",
       "998  56.196330  40.251338 -19.485320 -12.757924\n",
       "999  57.759859  40.566708 -20.077583 -13.274536\n",
       "\n",
       "[1000 rows x 4 columns]"
      ]
     },
     "execution_count": 15,
     "metadata": {},
     "output_type": "execute_result"
    }
   ],
   "source": [
    "df = pd.DataFrame(arr, columns = ['A', 'B', 'C', 'D'])\n",
    "df"
   ]
  },
  {
   "cell_type": "code",
   "execution_count": 16,
   "id": "3c40f9b4",
   "metadata": {},
   "outputs": [
    {
     "data": {
      "text/plain": [
       "<AxesSubplot:>"
      ]
     },
     "execution_count": 16,
     "metadata": {},
     "output_type": "execute_result"
    },
    {
     "data": {
      "image/png": "[encoded data removed]",
      "text/plain": [
       "<Figure size 640x480 with 1 Axes>"
      ]
     },
     "metadata": {},
     "output_type": "display_data"
    }
   ],
   "source": [
    "df['A'].plot()"
   ]
  },
  {
   "cell_type": "code",
   "execution_count": 17,
   "id": "82f9adb3",
   "metadata": {},
   "outputs": [
    {
     "data": {
      "text/plain": [
       "<AxesSubplot:>"
      ]
     },
     "execution_count": 17,
     "metadata": {},
     "output_type": "execute_result"
    },
    {
     "data": {
      "image/png": "[encoded data removed]",
      "text/plain": [
       "<Figure size 640x480 with 1 Axes>"
      ]
     },
     "metadata": {},
     "output_type": "display_data"
    }
   ],
   "source": [
    "df.plot()"
   ]
  },
  {
   "cell_type": "markdown",
   "id": "6491f0db",
   "metadata": {},
   "source": [
    "# Modulo 5.- Pandas 8"
   ]
  },
  {
   "cell_type": "markdown",
   "id": "5f5c662d",
   "metadata": {},
   "source": [
    "## 8.1. Missing values\n",
    "Tener un dataset con missing values es un caso muy  común a la hora de trabajar con datos. Puede suceder  que algunos datos se hayan perdido, por lo que no  estén disponibles, o que no se hayan recolectado  correctamente. Incluso puede suceder que la  información jamás haya existido.\n",
    "\n",
    "Existen varias técnicas a la hora de trabajar con  missing values y pandas ofrece funcionalidades para  manipularlos."
   ]
  },
  {
   "cell_type": "markdown",
   "id": "a2890657",
   "metadata": {},
   "source": [
    "Para representar missing values pandas usa  principalmente el valor np.nan (NaN: Not a  Number). Este es un valor especial dentro de  los números ﬂotantes."
   ]
  },
  {
   "cell_type": "code",
   "execution_count": 18,
   "id": "d00e053b",
   "metadata": {},
   "outputs": [
    {
     "data": {
      "text/html": [
       "<div>\n",
       "<style scoped>\n",
       "    .dataframe tbody tr th:only-of-type {\n",
       "        vertical-align: middle;\n",
       "    }\n",
       "\n",
       "    .dataframe tbody tr th {\n",
       "        vertical-align: top;\n",
       "    }\n",
       "\n",
       "    .dataframe thead th {\n",
       "        text-align: right;\n",
       "    }\n",
       "</style>\n",
       "<table border=\"1\" class=\"dataframe\">\n",
       "  <thead>\n",
       "    <tr style=\"text-align: right;\">\n",
       "      <th></th>\n",
       "      <th>A</th>\n",
       "      <th>B</th>\n",
       "    </tr>\n",
       "  </thead>\n",
       "  <tbody>\n",
       "    <tr>\n",
       "      <th>0</th>\n",
       "      <td>1</td>\n",
       "      <td>8.0</td>\n",
       "    </tr>\n",
       "    <tr>\n",
       "      <th>1</th>\n",
       "      <td>3</td>\n",
       "      <td>2.0</td>\n",
       "    </tr>\n",
       "    <tr>\n",
       "      <th>2</th>\n",
       "      <td>5</td>\n",
       "      <td>NaN</td>\n",
       "    </tr>\n",
       "    <tr>\n",
       "      <th>3</th>\n",
       "      <td>4</td>\n",
       "      <td>1.0</td>\n",
       "    </tr>\n",
       "    <tr>\n",
       "      <th>4</th>\n",
       "      <td>2</td>\n",
       "      <td>5.0</td>\n",
       "    </tr>\n",
       "  </tbody>\n",
       "</table>\n",
       "</div>"
      ],
      "text/plain": [
       "   A    B\n",
       "0  1  8.0\n",
       "1  3  2.0\n",
       "2  5  NaN\n",
       "3  4  1.0\n",
       "4  2  5.0"
      ]
     },
     "execution_count": 18,
     "metadata": {},
     "output_type": "execute_result"
    }
   ],
   "source": [
    "df = pd.DataFrame({'A': [1, 3, 5, 4, 2], 'B': [8, 2, np.nan, 1, 5]})\n",
    "df"
   ]
  },
  {
   "cell_type": "code",
   "execution_count": 19,
   "id": "6a52ff9a",
   "metadata": {},
   "outputs": [
    {
     "data": {
      "text/plain": [
       "0    9.0\n",
       "1    5.0\n",
       "2    NaN\n",
       "3    5.0\n",
       "4    7.0\n",
       "dtype: float64"
      ]
     },
     "execution_count": 19,
     "metadata": {},
     "output_type": "execute_result"
    }
   ],
   "source": [
    "df['A'] + df['B']"
   ]
  },
  {
   "cell_type": "markdown",
   "id": "76934ca4",
   "metadata": {},
   "source": [
    "A su vez, las funciones de agregación también permiten controlar cómo se trata NaN. Por defecto son ignorados, pero se puede controlar con el parámetro skipna."
   ]
  },
  {
   "cell_type": "code",
   "execution_count": 20,
   "id": "d8adb669",
   "metadata": {},
   "outputs": [
    {
     "data": {
      "text/plain": [
       "A    3.0\n",
       "B    4.0\n",
       "dtype: float64"
      ]
     },
     "execution_count": 20,
     "metadata": {},
     "output_type": "execute_result"
    }
   ],
   "source": [
    "df.mean()"
   ]
  },
  {
   "cell_type": "code",
   "execution_count": 21,
   "id": "f39ef023",
   "metadata": {},
   "outputs": [
    {
     "data": {
      "text/plain": [
       "A    3.0\n",
       "B    NaN\n",
       "dtype: float64"
      ]
     },
     "execution_count": 21,
     "metadata": {},
     "output_type": "execute_result"
    }
   ],
   "source": [
    "df.mean(skipna = False)"
   ]
  },
  {
   "cell_type": "markdown",
   "id": "72486339",
   "metadata": {},
   "source": [
    "## 10.1. Fechas\n",
    "Para representar fechas y horas se utiliza un tipo  de dato especial: **datetime64**. Y para representar  intervalos de tiempo su usa **timedelta64**.       \n",
    "Son  tipos de datos que incorporan características y  operaciones propias de trabajar y medir tiempos.\n",
    "\n",
    "Usualmente cuando leemos un archivo las fechas  se representan como strings. Para convertirlo a  datetime64 se usa la función  pd.to_datetime,  que permite controlar el formato con el que se va a  leer la información, que puede venir de diferentes  formas:**yyyy-mm-dd, dd/mm/yy, Month dd,  yyyy, etc.**"
   ]
  },
  {
   "cell_type": "code",
   "execution_count": 22,
   "id": "dd18da91",
   "metadata": {},
   "outputs": [
    {
     "data": {
      "text/html": [
       "<div>\n",
       "<style scoped>\n",
       "    .dataframe tbody tr th:only-of-type {\n",
       "        vertical-align: middle;\n",
       "    }\n",
       "\n",
       "    .dataframe tbody tr th {\n",
       "        vertical-align: top;\n",
       "    }\n",
       "\n",
       "    .dataframe thead th {\n",
       "        text-align: right;\n",
       "    }\n",
       "</style>\n",
       "<table border=\"1\" class=\"dataframe\">\n",
       "  <thead>\n",
       "    <tr style=\"text-align: right;\">\n",
       "      <th></th>\n",
       "      <th>Date</th>\n",
       "      <th>Price</th>\n",
       "      <th>Open</th>\n",
       "      <th>High</th>\n",
       "      <th>Low</th>\n",
       "    </tr>\n",
       "  </thead>\n",
       "  <tbody>\n",
       "    <tr>\n",
       "      <th>0</th>\n",
       "      <td>Aug 01, 2018</td>\n",
       "      <td>1216.6</td>\n",
       "      <td>1223.40</td>\n",
       "      <td>1223.4</td>\n",
       "      <td>1216.20</td>\n",
       "    </tr>\n",
       "    <tr>\n",
       "      <th>1</th>\n",
       "      <td>Jul 31, 2018</td>\n",
       "      <td>1223.7</td>\n",
       "      <td>1220.40</td>\n",
       "      <td>1228.1</td>\n",
       "      <td>1213.00</td>\n",
       "    </tr>\n",
       "    <tr>\n",
       "      <th>2</th>\n",
       "      <td>Jul 30, 2018</td>\n",
       "      <td>1221.3</td>\n",
       "      <td>1222.50</td>\n",
       "      <td>1223.9</td>\n",
       "      <td>1218.10</td>\n",
       "    </tr>\n",
       "    <tr>\n",
       "      <th>3</th>\n",
       "      <td>Jul 27, 2018</td>\n",
       "      <td>1222.2</td>\n",
       "      <td>1223.50</td>\n",
       "      <td>1226.8</td>\n",
       "      <td>1216.70</td>\n",
       "    </tr>\n",
       "    <tr>\n",
       "      <th>4</th>\n",
       "      <td>Jul 26, 2018</td>\n",
       "      <td>1225.3</td>\n",
       "      <td>1227.80</td>\n",
       "      <td>1227.8</td>\n",
       "      <td>1227.80</td>\n",
       "    </tr>\n",
       "    <tr>\n",
       "      <th>...</th>\n",
       "      <td>...</td>\n",
       "      <td>...</td>\n",
       "      <td>...</td>\n",
       "      <td>...</td>\n",
       "      <td>...</td>\n",
       "    </tr>\n",
       "    <tr>\n",
       "      <th>9766</th>\n",
       "      <td>Jan 03, 1980</td>\n",
       "      <td>625.0</td>\n",
       "      <td>627.00</td>\n",
       "      <td>640.0</td>\n",
       "      <td>603.00</td>\n",
       "    </tr>\n",
       "    <tr>\n",
       "      <th>9767</th>\n",
       "      <td>Jan 02, 1980</td>\n",
       "      <td>575.5</td>\n",
       "      <td>562.50</td>\n",
       "      <td>577.0</td>\n",
       "      <td>558.00</td>\n",
       "    </tr>\n",
       "    <tr>\n",
       "      <th>9768</th>\n",
       "      <td>Dec 31, 1979</td>\n",
       "      <td>533.6</td>\n",
       "      <td>527.88</td>\n",
       "      <td>534.5</td>\n",
       "      <td>527.88</td>\n",
       "    </tr>\n",
       "    <tr>\n",
       "      <th>9769</th>\n",
       "      <td>Dec 28, 1979</td>\n",
       "      <td>517.8</td>\n",
       "      <td>516.00</td>\n",
       "      <td>517.8</td>\n",
       "      <td>510.40</td>\n",
       "    </tr>\n",
       "    <tr>\n",
       "      <th>9770</th>\n",
       "      <td>Dec 27, 1979</td>\n",
       "      <td>515.5</td>\n",
       "      <td>517.00</td>\n",
       "      <td>517.0</td>\n",
       "      <td>513.00</td>\n",
       "    </tr>\n",
       "  </tbody>\n",
       "</table>\n",
       "<p>9771 rows × 5 columns</p>\n",
       "</div>"
      ],
      "text/plain": [
       "              Date   Price     Open    High      Low\n",
       "0     Aug 01, 2018  1216.6  1223.40  1223.4  1216.20\n",
       "1     Jul 31, 2018  1223.7  1220.40  1228.1  1213.00\n",
       "2     Jul 30, 2018  1221.3  1222.50  1223.9  1218.10\n",
       "3     Jul 27, 2018  1222.2  1223.50  1226.8  1216.70\n",
       "4     Jul 26, 2018  1225.3  1227.80  1227.8  1227.80\n",
       "...            ...     ...      ...     ...      ...\n",
       "9766  Jan 03, 1980   625.0   627.00   640.0   603.00\n",
       "9767  Jan 02, 1980   575.5   562.50   577.0   558.00\n",
       "9768  Dec 31, 1979   533.6   527.88   534.5   527.88\n",
       "9769  Dec 28, 1979   517.8   516.00   517.8   510.40\n",
       "9770  Dec 27, 1979   515.5   517.00   517.0   513.00\n",
       "\n",
       "[9771 rows x 5 columns]"
      ]
     },
     "execution_count": 22,
     "metadata": {},
     "output_type": "execute_result"
    }
   ],
   "source": [
    "gold = pd.read_csv('GoldPrice.csv')\n",
    "gold"
   ]
  },
  {
   "cell_type": "code",
   "execution_count": 23,
   "id": "6f73484c",
   "metadata": {},
   "outputs": [
    {
     "data": {
      "text/plain": [
       "Date      object\n",
       "Price    float64\n",
       "Open     float64\n",
       "High     float64\n",
       "Low      float64\n",
       "dtype: object"
      ]
     },
     "execution_count": 23,
     "metadata": {},
     "output_type": "execute_result"
    }
   ],
   "source": [
    "gold.dtypes"
   ]
  },
  {
   "cell_type": "code",
   "execution_count": 24,
   "id": "b751df8f",
   "metadata": {},
   "outputs": [
    {
     "data": {
      "text/html": [
       "<div>\n",
       "<style scoped>\n",
       "    .dataframe tbody tr th:only-of-type {\n",
       "        vertical-align: middle;\n",
       "    }\n",
       "\n",
       "    .dataframe tbody tr th {\n",
       "        vertical-align: top;\n",
       "    }\n",
       "\n",
       "    .dataframe thead th {\n",
       "        text-align: right;\n",
       "    }\n",
       "</style>\n",
       "<table border=\"1\" class=\"dataframe\">\n",
       "  <thead>\n",
       "    <tr style=\"text-align: right;\">\n",
       "      <th></th>\n",
       "      <th>Date</th>\n",
       "      <th>Price</th>\n",
       "      <th>Open</th>\n",
       "      <th>High</th>\n",
       "      <th>Low</th>\n",
       "    </tr>\n",
       "  </thead>\n",
       "  <tbody>\n",
       "    <tr>\n",
       "      <th>0</th>\n",
       "      <td>2018-08-01</td>\n",
       "      <td>1216.6</td>\n",
       "      <td>1223.40</td>\n",
       "      <td>1223.4</td>\n",
       "      <td>1216.20</td>\n",
       "    </tr>\n",
       "    <tr>\n",
       "      <th>1</th>\n",
       "      <td>2018-07-31</td>\n",
       "      <td>1223.7</td>\n",
       "      <td>1220.40</td>\n",
       "      <td>1228.1</td>\n",
       "      <td>1213.00</td>\n",
       "    </tr>\n",
       "    <tr>\n",
       "      <th>2</th>\n",
       "      <td>2018-07-30</td>\n",
       "      <td>1221.3</td>\n",
       "      <td>1222.50</td>\n",
       "      <td>1223.9</td>\n",
       "      <td>1218.10</td>\n",
       "    </tr>\n",
       "    <tr>\n",
       "      <th>3</th>\n",
       "      <td>2018-07-27</td>\n",
       "      <td>1222.2</td>\n",
       "      <td>1223.50</td>\n",
       "      <td>1226.8</td>\n",
       "      <td>1216.70</td>\n",
       "    </tr>\n",
       "    <tr>\n",
       "      <th>4</th>\n",
       "      <td>2018-07-26</td>\n",
       "      <td>1225.3</td>\n",
       "      <td>1227.80</td>\n",
       "      <td>1227.8</td>\n",
       "      <td>1227.80</td>\n",
       "    </tr>\n",
       "    <tr>\n",
       "      <th>...</th>\n",
       "      <td>...</td>\n",
       "      <td>...</td>\n",
       "      <td>...</td>\n",
       "      <td>...</td>\n",
       "      <td>...</td>\n",
       "    </tr>\n",
       "    <tr>\n",
       "      <th>9766</th>\n",
       "      <td>1980-01-03</td>\n",
       "      <td>625.0</td>\n",
       "      <td>627.00</td>\n",
       "      <td>640.0</td>\n",
       "      <td>603.00</td>\n",
       "    </tr>\n",
       "    <tr>\n",
       "      <th>9767</th>\n",
       "      <td>1980-01-02</td>\n",
       "      <td>575.5</td>\n",
       "      <td>562.50</td>\n",
       "      <td>577.0</td>\n",
       "      <td>558.00</td>\n",
       "    </tr>\n",
       "    <tr>\n",
       "      <th>9768</th>\n",
       "      <td>1979-12-31</td>\n",
       "      <td>533.6</td>\n",
       "      <td>527.88</td>\n",
       "      <td>534.5</td>\n",
       "      <td>527.88</td>\n",
       "    </tr>\n",
       "    <tr>\n",
       "      <th>9769</th>\n",
       "      <td>1979-12-28</td>\n",
       "      <td>517.8</td>\n",
       "      <td>516.00</td>\n",
       "      <td>517.8</td>\n",
       "      <td>510.40</td>\n",
       "    </tr>\n",
       "    <tr>\n",
       "      <th>9770</th>\n",
       "      <td>1979-12-27</td>\n",
       "      <td>515.5</td>\n",
       "      <td>517.00</td>\n",
       "      <td>517.0</td>\n",
       "      <td>513.00</td>\n",
       "    </tr>\n",
       "  </tbody>\n",
       "</table>\n",
       "<p>9771 rows × 5 columns</p>\n",
       "</div>"
      ],
      "text/plain": [
       "           Date   Price     Open    High      Low\n",
       "0    2018-08-01  1216.6  1223.40  1223.4  1216.20\n",
       "1    2018-07-31  1223.7  1220.40  1228.1  1213.00\n",
       "2    2018-07-30  1221.3  1222.50  1223.9  1218.10\n",
       "3    2018-07-27  1222.2  1223.50  1226.8  1216.70\n",
       "4    2018-07-26  1225.3  1227.80  1227.8  1227.80\n",
       "...         ...     ...      ...     ...      ...\n",
       "9766 1980-01-03   625.0   627.00   640.0   603.00\n",
       "9767 1980-01-02   575.5   562.50   577.0   558.00\n",
       "9768 1979-12-31   533.6   527.88   534.5   527.88\n",
       "9769 1979-12-28   517.8   516.00   517.8   510.40\n",
       "9770 1979-12-27   515.5   517.00   517.0   513.00\n",
       "\n",
       "[9771 rows x 5 columns]"
      ]
     },
     "execution_count": 24,
     "metadata": {},
     "output_type": "execute_result"
    }
   ],
   "source": [
    "gold['Date']=pd.to_datetime(gold['Date'])\n",
    "gold"
   ]
  },
  {
   "cell_type": "markdown",
   "id": "603a0c1a",
   "metadata": {},
   "source": [
    "Los objetos de tipo datetime tienen varios atributos, como **year,  month, day, hour**. Para acceder a los atributos y métodos  propios del tipo de dato datetime se utiliza el atributo dt."
   ]
  },
  {
   "cell_type": "code",
   "execution_count": 25,
   "id": "e4c22dc4",
   "metadata": {},
   "outputs": [
    {
     "data": {
      "text/plain": [
       "0       2018\n",
       "1       2018\n",
       "2       2018\n",
       "3       2018\n",
       "4       2018\n",
       "        ... \n",
       "9766    1980\n",
       "9767    1980\n",
       "9768    1979\n",
       "9769    1979\n",
       "9770    1979\n",
       "Name: Date, Length: 9771, dtype: int64"
      ]
     },
     "execution_count": 25,
     "metadata": {},
     "output_type": "execute_result"
    }
   ],
   "source": [
    "gold['Date'].dt.year"
   ]
  },
  {
   "cell_type": "code",
   "execution_count": 26,
   "id": "e0e319f6",
   "metadata": {},
   "outputs": [
    {
     "data": {
      "text/plain": [
       "0        8\n",
       "1        7\n",
       "2        7\n",
       "3        7\n",
       "4        7\n",
       "        ..\n",
       "9766     1\n",
       "9767     1\n",
       "9768    12\n",
       "9769    12\n",
       "9770    12\n",
       "Name: Date, Length: 9771, dtype: int64"
      ]
     },
     "execution_count": 26,
     "metadata": {},
     "output_type": "execute_result"
    }
   ],
   "source": [
    "gold['Date'].dt.month"
   ]
  },
  {
   "cell_type": "code",
   "execution_count": 27,
   "id": "ac47aad0",
   "metadata": {},
   "outputs": [
    {
     "data": {
      "text/html": [
       "<div>\n",
       "<style scoped>\n",
       "    .dataframe tbody tr th:only-of-type {\n",
       "        vertical-align: middle;\n",
       "    }\n",
       "\n",
       "    .dataframe tbody tr th {\n",
       "        vertical-align: top;\n",
       "    }\n",
       "\n",
       "    .dataframe thead th {\n",
       "        text-align: right;\n",
       "    }\n",
       "</style>\n",
       "<table border=\"1\" class=\"dataframe\">\n",
       "  <thead>\n",
       "    <tr style=\"text-align: right;\">\n",
       "      <th></th>\n",
       "      <th>Price</th>\n",
       "      <th>Open</th>\n",
       "      <th>High</th>\n",
       "      <th>Low</th>\n",
       "    </tr>\n",
       "    <tr>\n",
       "      <th>Date</th>\n",
       "      <th></th>\n",
       "      <th></th>\n",
       "      <th></th>\n",
       "      <th></th>\n",
       "    </tr>\n",
       "  </thead>\n",
       "  <tbody>\n",
       "    <tr>\n",
       "      <th>2018-08-01</th>\n",
       "      <td>1216.6</td>\n",
       "      <td>1223.40</td>\n",
       "      <td>1223.4</td>\n",
       "      <td>1216.20</td>\n",
       "    </tr>\n",
       "    <tr>\n",
       "      <th>2018-07-31</th>\n",
       "      <td>1223.7</td>\n",
       "      <td>1220.40</td>\n",
       "      <td>1228.1</td>\n",
       "      <td>1213.00</td>\n",
       "    </tr>\n",
       "    <tr>\n",
       "      <th>2018-07-30</th>\n",
       "      <td>1221.3</td>\n",
       "      <td>1222.50</td>\n",
       "      <td>1223.9</td>\n",
       "      <td>1218.10</td>\n",
       "    </tr>\n",
       "    <tr>\n",
       "      <th>2018-07-27</th>\n",
       "      <td>1222.2</td>\n",
       "      <td>1223.50</td>\n",
       "      <td>1226.8</td>\n",
       "      <td>1216.70</td>\n",
       "    </tr>\n",
       "    <tr>\n",
       "      <th>2018-07-26</th>\n",
       "      <td>1225.3</td>\n",
       "      <td>1227.80</td>\n",
       "      <td>1227.8</td>\n",
       "      <td>1227.80</td>\n",
       "    </tr>\n",
       "    <tr>\n",
       "      <th>...</th>\n",
       "      <td>...</td>\n",
       "      <td>...</td>\n",
       "      <td>...</td>\n",
       "      <td>...</td>\n",
       "    </tr>\n",
       "    <tr>\n",
       "      <th>1980-01-03</th>\n",
       "      <td>625.0</td>\n",
       "      <td>627.00</td>\n",
       "      <td>640.0</td>\n",
       "      <td>603.00</td>\n",
       "    </tr>\n",
       "    <tr>\n",
       "      <th>1980-01-02</th>\n",
       "      <td>575.5</td>\n",
       "      <td>562.50</td>\n",
       "      <td>577.0</td>\n",
       "      <td>558.00</td>\n",
       "    </tr>\n",
       "    <tr>\n",
       "      <th>1979-12-31</th>\n",
       "      <td>533.6</td>\n",
       "      <td>527.88</td>\n",
       "      <td>534.5</td>\n",
       "      <td>527.88</td>\n",
       "    </tr>\n",
       "    <tr>\n",
       "      <th>1979-12-28</th>\n",
       "      <td>517.8</td>\n",
       "      <td>516.00</td>\n",
       "      <td>517.8</td>\n",
       "      <td>510.40</td>\n",
       "    </tr>\n",
       "    <tr>\n",
       "      <th>1979-12-27</th>\n",
       "      <td>515.5</td>\n",
       "      <td>517.00</td>\n",
       "      <td>517.0</td>\n",
       "      <td>513.00</td>\n",
       "    </tr>\n",
       "  </tbody>\n",
       "</table>\n",
       "<p>9771 rows × 4 columns</p>\n",
       "</div>"
      ],
      "text/plain": [
       "             Price     Open    High      Low\n",
       "Date                                        \n",
       "2018-08-01  1216.6  1223.40  1223.4  1216.20\n",
       "2018-07-31  1223.7  1220.40  1228.1  1213.00\n",
       "2018-07-30  1221.3  1222.50  1223.9  1218.10\n",
       "2018-07-27  1222.2  1223.50  1226.8  1216.70\n",
       "2018-07-26  1225.3  1227.80  1227.8  1227.80\n",
       "...            ...      ...     ...      ...\n",
       "1980-01-03   625.0   627.00   640.0   603.00\n",
       "1980-01-02   575.5   562.50   577.0   558.00\n",
       "1979-12-31   533.6   527.88   534.5   527.88\n",
       "1979-12-28   517.8   516.00   517.8   510.40\n",
       "1979-12-27   515.5   517.00   517.0   513.00\n",
       "\n",
       "[9771 rows x 4 columns]"
      ]
     },
     "execution_count": 27,
     "metadata": {},
     "output_type": "execute_result"
    }
   ],
   "source": [
    "gold.set_index('Date', inplace = True)\n",
    "gold"
   ]
  },
  {
   "cell_type": "code",
   "execution_count": 28,
   "id": "893b446d",
   "metadata": {},
   "outputs": [
    {
     "data": {
      "text/html": [
       "<div>\n",
       "<style scoped>\n",
       "    .dataframe tbody tr th:only-of-type {\n",
       "        vertical-align: middle;\n",
       "    }\n",
       "\n",
       "    .dataframe tbody tr th {\n",
       "        vertical-align: top;\n",
       "    }\n",
       "\n",
       "    .dataframe thead th {\n",
       "        text-align: right;\n",
       "    }\n",
       "</style>\n",
       "<table border=\"1\" class=\"dataframe\">\n",
       "  <thead>\n",
       "    <tr style=\"text-align: right;\">\n",
       "      <th></th>\n",
       "      <th>Price</th>\n",
       "      <th>Open</th>\n",
       "      <th>High</th>\n",
       "      <th>Low</th>\n",
       "    </tr>\n",
       "    <tr>\n",
       "      <th>Date</th>\n",
       "      <th></th>\n",
       "      <th></th>\n",
       "      <th></th>\n",
       "      <th></th>\n",
       "    </tr>\n",
       "  </thead>\n",
       "  <tbody>\n",
       "    <tr>\n",
       "      <th>2016-12-30</th>\n",
       "      <td>1150.00</td>\n",
       "      <td>1162.0</td>\n",
       "      <td>1162.00</td>\n",
       "      <td>1151.0</td>\n",
       "    </tr>\n",
       "    <tr>\n",
       "      <th>2016-12-29</th>\n",
       "      <td>1156.40</td>\n",
       "      <td>1143.8</td>\n",
       "      <td>1158.80</td>\n",
       "      <td>1143.6</td>\n",
       "    </tr>\n",
       "    <tr>\n",
       "      <th>2016-12-28</th>\n",
       "      <td>1139.40</td>\n",
       "      <td>1141.2</td>\n",
       "      <td>1141.20</td>\n",
       "      <td>1138.0</td>\n",
       "    </tr>\n",
       "    <tr>\n",
       "      <th>2016-12-27</th>\n",
       "      <td>1137.30</td>\n",
       "      <td>1134.3</td>\n",
       "      <td>1142.20</td>\n",
       "      <td>1134.3</td>\n",
       "    </tr>\n",
       "    <tr>\n",
       "      <th>2016-12-26</th>\n",
       "      <td>1134.55</td>\n",
       "      <td>1135.0</td>\n",
       "      <td>1136.05</td>\n",
       "      <td>1134.0</td>\n",
       "    </tr>\n",
       "    <tr>\n",
       "      <th>...</th>\n",
       "      <td>...</td>\n",
       "      <td>...</td>\n",
       "      <td>...</td>\n",
       "      <td>...</td>\n",
       "    </tr>\n",
       "    <tr>\n",
       "      <th>2016-01-08</th>\n",
       "      <td>1097.80</td>\n",
       "      <td>1111.1</td>\n",
       "      <td>1111.10</td>\n",
       "      <td>1093.0</td>\n",
       "    </tr>\n",
       "    <tr>\n",
       "      <th>2016-01-07</th>\n",
       "      <td>1107.70</td>\n",
       "      <td>1091.6</td>\n",
       "      <td>1109.40</td>\n",
       "      <td>1091.6</td>\n",
       "    </tr>\n",
       "    <tr>\n",
       "      <th>2016-01-06</th>\n",
       "      <td>1091.90</td>\n",
       "      <td>1081.6</td>\n",
       "      <td>1093.70</td>\n",
       "      <td>1081.6</td>\n",
       "    </tr>\n",
       "    <tr>\n",
       "      <th>2016-01-05</th>\n",
       "      <td>1078.40</td>\n",
       "      <td>1075.6</td>\n",
       "      <td>1081.50</td>\n",
       "      <td>1075.3</td>\n",
       "    </tr>\n",
       "    <tr>\n",
       "      <th>2016-01-04</th>\n",
       "      <td>1075.10</td>\n",
       "      <td>1063.4</td>\n",
       "      <td>1082.50</td>\n",
       "      <td>1063.2</td>\n",
       "    </tr>\n",
       "  </tbody>\n",
       "</table>\n",
       "<p>265 rows × 4 columns</p>\n",
       "</div>"
      ],
      "text/plain": [
       "              Price    Open     High     Low\n",
       "Date                                        \n",
       "2016-12-30  1150.00  1162.0  1162.00  1151.0\n",
       "2016-12-29  1156.40  1143.8  1158.80  1143.6\n",
       "2016-12-28  1139.40  1141.2  1141.20  1138.0\n",
       "2016-12-27  1137.30  1134.3  1142.20  1134.3\n",
       "2016-12-26  1134.55  1135.0  1136.05  1134.0\n",
       "...             ...     ...      ...     ...\n",
       "2016-01-08  1097.80  1111.1  1111.10  1093.0\n",
       "2016-01-07  1107.70  1091.6  1109.40  1091.6\n",
       "2016-01-06  1091.90  1081.6  1093.70  1081.6\n",
       "2016-01-05  1078.40  1075.6  1081.50  1075.3\n",
       "2016-01-04  1075.10  1063.4  1082.50  1063.2\n",
       "\n",
       "[265 rows x 4 columns]"
      ]
     },
     "execution_count": 28,
     "metadata": {},
     "output_type": "execute_result"
    }
   ],
   "source": [
    "# seleccionar el año 2016\n",
    "gold.loc['2016']"
   ]
  },
  {
   "cell_type": "markdown",
   "id": "ca954360",
   "metadata": {},
   "source": [
    "# Modulo 6.- Matplotlib 1"
   ]
  },
  {
   "cell_type": "markdown",
   "id": "95edcd13",
   "metadata": {},
   "source": [
    "## 1.1. Visualización de datos\n",
    "La **visualización de datos** es la representación de  los datos a través de gráﬁcos de distinto tipo.      \n",
    "Es un  tipo de representación mucho más fácil de entender  para una persona que otras formas de representar  información, como las tablas, más aún cuando la  cantidad de datos es grande.\n",
    "Las representaciones visuales permiten descubrir y  comunicar relaciones complejas entre los datos y son  una herramienta importante del análisis de datos  moderno."
   ]
  },
  {
   "cell_type": "markdown",
   "id": "ee5c3ea2",
   "metadata": {},
   "source": [
    "**Matplotlib** es un módulo de bajo nivel para  visualización de datos. Está hecho sobre Numpy,  por lo que es ideal para hacer gráﬁcos a partir  de datos alojados en arrays. Por esta razón se  integra perfectamente al ecosistema de  módulos de Python.\n",
    "Se dice que es de bajo nivel porque permite  controlar cualquier aspecto de un gráﬁco, ya que  tiene numerosas funciones para conﬁgurar  cualquier cosa que uno quiera. Por esto mismo  sirve de base a otros módulos (de alto nivel) que  están construidos sobre Matplotlib, como  Seaborn o Cartopy."
   ]
  },
  {
   "cell_type": "code",
   "execution_count": 29,
   "id": "275b0139",
   "metadata": {},
   "outputs": [],
   "source": [
    "import matplotlib.pyplot as plt"
   ]
  },
  {
   "cell_type": "markdown",
   "id": "3f4fb394",
   "metadata": {},
   "source": [
    "La función **plot** es una de las funciones básicas y sirve  para graﬁcar puntos en 2d y unirlos con líneas (por  defecto una línea continua azul). Recibe como  parámetros dos arrays, uno para las coordenadas x y  otro para las coordenadas y de los datos.\n",
    "En caso de que se provea un solo array, este se usa  como coordenadas **y** mientras que las coordenadas x se  defaultean a números enteros empezando por cero."
   ]
  },
  {
   "cell_type": "code",
   "execution_count": 30,
   "id": "c6f0c1f0",
   "metadata": {},
   "outputs": [
    {
     "data": {
      "text/plain": [
       "[<matplotlib.lines.Line2D at 0x271a035fb80>]"
      ]
     },
     "execution_count": 30,
     "metadata": {},
     "output_type": "execute_result"
    },
    {
     "data": {
      "image/png": "[encoded data removed]",
      "text/plain": [
       "<Figure size 640x480 with 1 Axes>"
      ]
     },
     "metadata": {},
     "output_type": "display_data"
    }
   ],
   "source": [
    "N = 8\n",
    "x = np.linspace(0,6,N)\n",
    "y = np.sin(x)\n",
    "plt.plot(x, y)"
   ]
  },
  {
   "cell_type": "code",
   "execution_count": 31,
   "id": "545096b8",
   "metadata": {},
   "outputs": [
    {
     "data": {
      "text/plain": [
       "[<matplotlib.lines.Line2D at 0x271a0308d90>]"
      ]
     },
     "execution_count": 31,
     "metadata": {},
     "output_type": "execute_result"
    },
    {
     "data": {
      "image/png": "[encoded data removed]",
      "text/plain": [
       "<Figure size 640x480 with 1 Axes>"
      ]
     },
     "metadata": {},
     "output_type": "display_data"
    }
   ],
   "source": [
    "plt.plot([1,5,3,7,4])"
   ]
  },
  {
   "cell_type": "markdown",
   "id": "58553fa5",
   "metadata": {},
   "source": [
    "# Modulo 6.- Matplotlib 2"
   ]
  },
  {
   "cell_type": "markdown",
   "id": "96247b52",
   "metadata": {},
   "source": [
    "## 2.1. Format String\n",
    "Adicionalmente a los datos, a la función plot se le puede  pasar un string para controlar algunos aspectos básicos  del gráﬁco de forma rápida y sencilla. Este format string  puede contener información para controlar tres aspectos:\n",
    "- Marcador: controla el tipo de marca que se usa para  señalar los datos, como por ejemplo si los vamos a  marcar con círculos, cuadrados, triángulos, puntos,  estrellas, etc.\n",
    "- Línea: el tipo de línea a utilizar para unir los puntos:  continua, punteada, rayada, raya-punto o ninguna.\n",
    "- Color: algunos colores básicos que podemos usar para  el conjunto de datos"
   ]
  },
  {
   "cell_type": "markdown",
   "id": "ebaaab83",
   "metadata": {},
   "source": [
    "### 2.2.1. Marcador\n",
    "Cada opción tiene un carácter que lo representa y puede estar presente o no en el format string.  Las opciones para el marcador son:\n",
    "![imagen](marcadores.png)"
   ]
  },
  {
   "cell_type": "markdown",
   "id": "7015d595",
   "metadata": {},
   "source": [
    "### 2.2.2. Linea y Color\n",
    "Los caracteres para el tipo de línea y para el color se muestran a continuación.  Si el carácter de la línea se omite, solo graﬁcará los puntos.\n",
    "![imagen](lineas.png)"
   ]
  },
  {
   "cell_type": "code",
   "execution_count": 32,
   "id": "912bd033",
   "metadata": {},
   "outputs": [
    {
     "data": {
      "text/plain": [
       "[<matplotlib.lines.Line2D at 0x271a0257490>]"
      ]
     },
     "execution_count": 32,
     "metadata": {},
     "output_type": "execute_result"
    },
    {
     "data": {
      "image/png": "[encoded data removed]",
      "text/plain": [
       "<Figure size 640x480 with 1 Axes>"
      ]
     },
     "metadata": {},
     "output_type": "display_data"
    }
   ],
   "source": [
    "plt.plot([1,5,3,7,4], 's:m')"
   ]
  },
  {
   "cell_type": "code",
   "execution_count": 33,
   "id": "18623985",
   "metadata": {},
   "outputs": [
    {
     "data": {
      "text/plain": [
       "[<matplotlib.lines.Line2D at 0x271a02c0b80>]"
      ]
     },
     "execution_count": 33,
     "metadata": {},
     "output_type": "execute_result"
    },
    {
     "data": {
      "image/png": "[encoded data removed]",
      "text/plain": [
       "<Figure size 640x480 with 1 Axes>"
      ]
     },
     "metadata": {},
     "output_type": "display_data"
    }
   ],
   "source": [
    "plt.plot([1,5,3,7,4], '^--g')"
   ]
  },
  {
   "cell_type": "code",
   "execution_count": null,
   "id": "7720757b",
   "metadata": {},
   "outputs": [],
   "source": []
  }
 ],
 "metadata": {
  "kernelspec": {
   "display_name": "Python 3 (ipykernel)",
   "language": "python",
   "name": "python3"
  },
  "language_info": {
   "codemirror_mode": {
    "name": "ipython",
    "version": 3
   },
   "file_extension": ".py",
   "mimetype": "text/x-python",
   "name": "python",
   "nbconvert_exporter": "python",
   "pygments_lexer": "ipython3",
   "version": "3.9.13"
  }
 },
 "nbformat": 4,
 "nbformat_minor": 5
}
