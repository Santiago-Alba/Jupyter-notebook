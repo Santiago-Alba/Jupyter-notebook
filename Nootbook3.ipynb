{
 "cells": [
  {
   "cell_type": "markdown",
   "id": "8ae9e4cc",
   "metadata": {},
   "source": [
    "# MODULO 1.-"
   ]
  },
  {
   "cell_type": "markdown",
   "id": "56021cd1",
   "metadata": {},
   "source": [
    "# 1. Operadores"
   ]
  },
  {
   "cell_type": "markdown",
   "id": "fc249ce8",
   "metadata": {},
   "source": [
    "## 1.1. Operadores aritméticos\n",
    "Estas cuatro operaciones aritméticas retornan un entero  \n",
    "cuando los dos objetos sobre los que actúan son enteros.  \n",
    "Si alguno de ellos es un número de coma flotante, o bien  ambos, \n",
    "el resultado es un número de coma flotante. \n",
    "\n",
    "De  esto se sigue que pi - pi retorne 0.0 (un número de coma  flotante) y no 0 (un número entero)."
   ]
  },
  {
   "cell_type": "code",
   "execution_count": 2,
   "id": "3e8a2462",
   "metadata": {},
   "outputs": [
    {
     "name": "stdout",
     "output_type": "stream",
     "text": [
      "7\n",
      "3\n",
      "-5\n",
      "10\n",
      "2.5\n",
      "1\n",
      "2\n",
      "25\n",
      "0.0\n"
     ]
    }
   ],
   "source": [
    "# +\tSuma los valores de tipo numérico\t\n",
    "print(5+2)\n",
    "# –\tResta los valores de tipo numérico\t\n",
    "print(5-2)\n",
    "\n",
    "# – Asigna un valor negativo a un dato numérico\t\n",
    "print(-5)\n",
    "\n",
    "# *\tMultiplica los valores de tipo numérico\t\n",
    "print(5*2)\n",
    "\n",
    "# /\tDivide los valores de tipo numérico\t\n",
    "print(5/2)\n",
    "\n",
    "# %\tDevuelve el resto de la división entre los valores de tipo numérico\t\n",
    "print(5%2)\n",
    "\n",
    "#  //\tDevuelve el cociente de la división entre los valores de tipo numérico\t\n",
    "print(5//2)\n",
    "\n",
    "# **\tCalcula el exponente entre valores de tipo numérico\n",
    "print(5**2)\n",
    "\n",
    "\n",
    "pi = 3.14\n",
    "print(pi-pi)"
   ]
  },
  {
   "cell_type": "markdown",
   "id": "8fecba6c",
   "metadata": {},
   "source": [
    "## 1.2. Ejemplo Operaciones aritmeticas\n",
    "Dadas 2 variables: a = 20 y b = 10, mostrar por pantalla su suma, resta, multiplicación y división."
   ]
  },
  {
   "cell_type": "code",
   "execution_count": 3,
   "id": "bffbc11c",
   "metadata": {},
   "outputs": [
    {
     "name": "stdout",
     "output_type": "stream",
     "text": [
      "La suma es: 30\n",
      "La resta es: 10\n",
      "La multiplicación es: 200\n",
      "La división es: 2.0\n"
     ]
    }
   ],
   "source": [
    "a = 20\n",
    "b = 10\n",
    "\n",
    "suma = a + b\n",
    "resta = a - b\n",
    "multiplicacion = a * b\n",
    "division = a / b\n",
    "\n",
    "print(\"La suma es:\", suma)\n",
    "print(\"La resta es:\",resta)\n",
    "print(\"La multiplicación es:\", multiplicacion)\n",
    "print(\"La división es:\", division)"
   ]
  },
  {
   "cell_type": "markdown",
   "id": "e753e646",
   "metadata": {},
   "source": [
    "## 1.2. Operadores de Comparacion\n",
    "Son los que utilizamos para comparar dos valores. \n",
    "Devuelve un valor booleano (true o false) dependiendo de la condición."
   ]
  },
  {
   "cell_type": "code",
   "execution_count": 4,
   "id": "dc0f8351",
   "metadata": {},
   "outputs": [
    {
     "name": "stdout",
     "output_type": "stream",
     "text": [
      "False\n",
      "True\n",
      "False\n",
      "True\n",
      "False\n",
      "True\n"
     ]
    }
   ],
   "source": [
    "# ==\tCompara los valores para ver si son iguales\t\n",
    "print(5==2)                               \n",
    "# != Compara los valores para ver si son distintos\t\n",
    "print(5!=2) \n",
    "\n",
    "# <\tCompara que el valor situado a la izquierda sea menor que el situado a la derecha\n",
    "print(5<2) \n",
    "\n",
    "# >\tCompara que el valor situado a la izquierda sea mayor que el situado a la derecha\t\n",
    "print(5>2)  \n",
    "\n",
    "# <= Compara que el valor situado a la izquierda sea menor o igual que el situado a la derecha\n",
    "print(5<=2) \n",
    "\n",
    "# >= Compara que el valor situado a la izquierda sea mayor o igual que el situado a la derecha\n",
    "print(5>=2)"
   ]
  },
  {
   "cell_type": "markdown",
   "id": "43d8b059",
   "metadata": {},
   "source": [
    "## 1.3. Operadores Logicos (Booleanos)\n",
    "**and** Comprueba que el valor izquierdo y derecho se cumple\t\n",
    "True and False\n",
    "\n",
    "**or** Comprueba que el valor izquierdo o el derecho se cumple  \n",
    "True or False\n",
    "\n",
    "**not** Devuelve el valor contrario al valor booleano\t\n",
    "not True"
   ]
  },
  {
   "cell_type": "code",
   "execution_count": 8,
   "id": "5fb3e685",
   "metadata": {},
   "outputs": [
    {
     "name": "stdout",
     "output_type": "stream",
     "text": [
      "False\n",
      "--------------\n",
      "True\n",
      "--------------\n",
      "False\n"
     ]
    }
   ],
   "source": [
    "#and\n",
    "print(True and False)\n",
    "print('--------------')\n",
    "#or\n",
    "print(True or False)\n",
    "print('--------------')\n",
    "#not\n",
    "print(not True)"
   ]
  },
  {
   "cell_type": "markdown",
   "id": "2241e3f0",
   "metadata": {},
   "source": [
    "## 1.4. Conjunción\n",
    "¿Cómo puedo determinar si a es mayor a 1 y  menor a 10, o, lo que es lo mismo, si a se  encuentra entre 1 y 10? \n",
    "Necesito combinar dos  operaciones de comparación.    \n",
    "La conjuncion nos permite  saber si ambas comparaciones son verdaderas"
   ]
  },
  {
   "cell_type": "code",
   "execution_count": 9,
   "id": "ce61ac25",
   "metadata": {},
   "outputs": [
    {
     "data": {
      "text/plain": [
       "True"
      ]
     },
     "execution_count": 9,
     "metadata": {},
     "output_type": "execute_result"
    }
   ],
   "source": [
    "a = 5\n",
    "a > 1 and a < 10"
   ]
  },
  {
   "cell_type": "markdown",
   "id": "54a7339d",
   "metadata": {},
   "source": [
    "## 1.5. Disyunción\n",
    "La disyunción nos permite  saber si alguna de dos comparaciones es verdadera"
   ]
  },
  {
   "cell_type": "code",
   "execution_count": 10,
   "id": "e00dcfcc",
   "metadata": {},
   "outputs": [
    {
     "data": {
      "text/plain": [
       "False"
      ]
     },
     "execution_count": 10,
     "metadata": {},
     "output_type": "execute_result"
    }
   ],
   "source": [
    "a = 5\n",
    "a == 1 or a == 10"
   ]
  },
  {
   "cell_type": "markdown",
   "id": "4c4e7c28",
   "metadata": {},
   "source": [
    "## 1.7. Operadores de Pertenencia\n",
    "En Python los operadores IN y NOT IN se llaman operadores  de pertenencia, se usan para  determinar si las variables se encuentran en una colección  (lista, tupla y diccionario) o no.   \n",
    "**in**: devuelve True cuando el valor está presente en la  secuencia.   \n",
    "**not in**: devuelve True cuando el valor no está presente  en la secuencia."
   ]
  },
  {
   "cell_type": "code",
   "execution_count": 11,
   "id": "89711968",
   "metadata": {},
   "outputs": [
    {
     "data": {
      "text/plain": [
       "True"
      ]
     },
     "execution_count": 11,
     "metadata": {},
     "output_type": "execute_result"
    }
   ],
   "source": [
    "# En las listas se pregunta directamente  por el elemento(item).\n",
    "\n",
    "nombres = [\"Juan\",\"Tomas\",\"Susana\"]\n",
    "\n",
    "\"Susana\" in nombres  \n",
    "\n",
    "\"Alejandro\" in nombres  \n",
    "\n",
    "# En los diccionarios se pregunta por el key.\n",
    "\n",
    "alumnos = {\"Juan\":5,\"Florencia\":10,\"Horacio\":1}\n",
    "\n",
    "\"Juan\" in alumnos  \n",
    "\n",
    "\"Victoria\" in alumnos  \n",
    "\n",
    "\"Florencia\" not in alumnos  \n",
    "\n",
    "\"Esteban\" not in alumnos"
   ]
  },
  {
   "cell_type": "markdown",
   "id": "48c3ef5f",
   "metadata": {},
   "source": [
    "## 3.4. Listas por comprensión\n",
    "Existe una sintaxis que permite crear listas de una forma  muy concisa: listas por comprensión.    \n",
    "Consiste en  especiﬁcar los elementos que va a contener la lista en la  propia deﬁnición de la lista.\n",
    "Consiste en colocar dentro de los corchetes una expresión  y una cláusula for (que puede o no estar seguida de más  cláusulas for o un if).         \n",
    "Se usa para generar elementos que siguen un patrón o  aplicar transformaciones a los elementos de otra secuencia."
   ]
  },
  {
   "cell_type": "code",
   "execution_count": 12,
   "id": "f11f109a",
   "metadata": {},
   "outputs": [
    {
     "data": {
      "text/plain": [
       "[0, 1, 4, 9, 16, 25, 36, 49, 64, 81, 100, 121]"
      ]
     },
     "execution_count": 12,
     "metadata": {},
     "output_type": "execute_result"
    }
   ],
   "source": [
    "[i ** 2 for i in range(12)]"
   ]
  },
  {
   "cell_type": "code",
   "execution_count": 13,
   "id": "cdbfcb7b",
   "metadata": {},
   "outputs": [
    {
     "data": {
      "text/plain": [
       "['HOLA', 'MUNDO', 'PYTHON']"
      ]
     },
     "execution_count": 13,
     "metadata": {},
     "output_type": "execute_result"
    }
   ],
   "source": [
    "palabras = ['hola', 'mundo', 'python']\n",
    "mayusculas = [st.upper() for st in palabras]\n",
    "mayusculas"
   ]
  },
  {
   "cell_type": "code",
   "execution_count": 14,
   "id": "43c2fc80",
   "metadata": {},
   "outputs": [
    {
     "data": {
      "text/plain": [
       "[14, 4, 10, 4, 6]"
      ]
     },
     "execution_count": 14,
     "metadata": {},
     "output_type": "execute_result"
    }
   ],
   "source": [
    "numeros = [14, 5, 4, 10, 15, 4, 7, 6, 3, 9, 71]\n",
    "pares = [num for num in numeros if num%2 == 0]\n",
    "pares"
   ]
  },
  {
   "cell_type": "markdown",
   "id": "3111952f",
   "metadata": {},
   "source": [
    "# MODULO 2"
   ]
  },
  {
   "cell_type": "markdown",
   "id": "07c9d0c9",
   "metadata": {},
   "source": [
    "# 1. Funciones"
   ]
  },
  {
   "cell_type": "markdown",
   "id": "6339c20c",
   "metadata": {},
   "source": [
    "## 1.1. Definicion\n",
    "Las funciones nos permiten agrupar una o más líneas de código bajo\n",
    "un mismo nombre. Su objetivo principal es el de evitar la repetición\n",
    "de código, haciendo de un archivo de código de fuente más claro,\n",
    "legible y fácil de mantener.    \n",
    "Para deﬁnir una función se utiliza la palabra  reservada **def**. Las reglas para nombrar funciones  son las mismas que para las variables. Entre  paréntesis va la lista de parámetros y luego de los  dos puntos \"**:**\", va el bloque de código que constituye el  cuerpo de la función.    \n",
    "Este bloque puede contener la palabra reservada  **return** que indica el valor de retorno de la función.    \n",
    "Estrictamente hablando, la función devuelve una  referencia al objeto que señale con la palabra la  palabra return. Si luego de esta palabra no se  señala ningún objeto o la función no ejecuta ningún  return, entonces se devuelve None."
   ]
  },
  {
   "cell_type": "code",
   "execution_count": 15,
   "id": "04250c2f",
   "metadata": {},
   "outputs": [
    {
     "name": "stdout",
     "output_type": "stream",
     "text": [
      "¡Hola mundo!\n",
      "Desde Python.\n",
      "35\n",
      "¡Hola mundo!\n",
      "Desde Python.\n"
     ]
    }
   ],
   "source": [
    "print(\"¡Hola mundo!\")\n",
    "print(\"Desde Python.\")\n",
    "a = 5\n",
    "b = 7\n",
    "c = a * b\n",
    "print(c)\n",
    "print(\"¡Hola mundo!\")\n",
    "print(\"Desde Python.\")"
   ]
  },
  {
   "cell_type": "code",
   "execution_count": 16,
   "id": "d3785f1d",
   "metadata": {},
   "outputs": [
    {
     "name": "stdout",
     "output_type": "stream",
     "text": [
      "¡Hola mundo!\n",
      "Desde Python.\n",
      "35\n",
      "¡Hola mundo!\n",
      "Desde Python.\n"
     ]
    }
   ],
   "source": [
    "# Definimos la funcion \n",
    "def mi_funcion():\n",
    "    print(\"¡Hola mundo!\")\n",
    "    print(\"Desde Python.\")\n",
    "\n",
    "# Ahora que tenemos esta función, en los lugares donde hacíamos uso de esas dos líneas simplemente pondremos mi_funcion() .\n",
    "# Para que se ejecute la funcion lo unico que tenemos que hacer es invocarla \n",
    "\n",
    "mi_funcion()\n",
    "a = 5\n",
    "b = 7\n",
    "c = a * b\n",
    "print(c)\n",
    "mi_funcion()"
   ]
  },
  {
   "cell_type": "markdown",
   "id": "9c305066",
   "metadata": {},
   "source": [
    "## 1.2. Argumentos\n",
    "A una función se le puede pasar información  en forma de argumentos. Estos se deﬁnen  entre los paréntesis que siguen al nombre  de la función en la deﬁnición y pueden ser  tantos como se necesiten.    \n",
    "Se pueden deﬁnir argumentos de distinto tipo.  Los **argumentos posicionales** son aquellos que  necesariamente hay que incluir en la llamada a la  función, mientras que los **keyword arguments**  son aquellos que tienen un valor por defecto en la  deﬁnición de la función y no necesariamente hay  que pasarlos a la hora de ejecutar la función.\n",
    "Cuando una función tiene los dos tipos de  parámetros, hay que colocar los posicionales  antes de los keyword arguments."
   ]
  },
  {
   "cell_type": "code",
   "execution_count": 17,
   "id": "f78a4ae2",
   "metadata": {},
   "outputs": [
    {
     "name": "stdout",
     "output_type": "stream",
     "text": [
      "16\n"
     ]
    }
   ],
   "source": [
    "# Argumento posicional\n",
    "def f(x):\n",
    "    return 4 * x ** 2\n",
    "print(f(2))"
   ]
  },
  {
   "cell_type": "markdown",
   "id": "0cc244a2",
   "metadata": {},
   "source": [
    "# 1.3. Funciones de Orden Superior\n",
    "Se entiende por funciones de orden superior a aquellas  funciones que toman a otras funciones como parámetros o  devuelven a una función."
   ]
  },
  {
   "cell_type": "code",
   "execution_count": 18,
   "id": "b14f9cdc",
   "metadata": {},
   "outputs": [
    {
     "data": {
      "text/plain": [
       "[29, 89, 74, 61, 34]"
      ]
     },
     "execution_count": 18,
     "metadata": {},
     "output_type": "execute_result"
    }
   ],
   "source": [
    "def aplicar(funcion, lista):\n",
    "    resultado = []\n",
    "    for item in lista:\n",
    "        resultado.append(funcion(item))\n",
    "    return resultado\n",
    "\n",
    "def cuenta(x):\n",
    "    return x ** 2 + 25\n",
    "\n",
    "numeros = [2,8,7,6,3]\n",
    "aplicar(cuenta, numeros)"
   ]
  },
  {
   "cell_type": "markdown",
   "id": "48324789",
   "metadata": {},
   "source": [
    "Esta función retorna un generador. Esto signiﬁca  que sus elementos no son calculados hasta que  sea explícitamente requerido. Esto permite  almacenarlo en la colección que queramos o  iterar sobre sus elementos de forma eﬁciente."
   ]
  },
  {
   "cell_type": "code",
   "execution_count": 19,
   "id": "01fd93e0",
   "metadata": {},
   "outputs": [
    {
     "data": {
      "text/plain": [
       "<map at 0x275056c7790>"
      ]
     },
     "execution_count": 19,
     "metadata": {},
     "output_type": "execute_result"
    }
   ],
   "source": [
    "def cuenta(x):\n",
    "    return x ** 2 + 25\n",
    "\n",
    "numeros = [2,8,7,6,3]\n",
    "map(cuenta, numeros)"
   ]
  },
  {
   "cell_type": "code",
   "execution_count": 20,
   "id": "571f4698",
   "metadata": {},
   "outputs": [
    {
     "data": {
      "text/plain": [
       "[29, 89, 74, 61, 34]"
      ]
     },
     "execution_count": 20,
     "metadata": {},
     "output_type": "execute_result"
    }
   ],
   "source": [
    "list(map(cuenta, numeros))"
   ]
  },
  {
   "cell_type": "code",
   "execution_count": 21,
   "id": "ea5d6607",
   "metadata": {},
   "outputs": [
    {
     "data": {
      "text/plain": [
       "(29, 89, 74, 61, 34)"
      ]
     },
     "execution_count": 21,
     "metadata": {},
     "output_type": "execute_result"
    }
   ],
   "source": [
    "tuple(map(cuenta, numeros))"
   ]
  },
  {
   "cell_type": "code",
   "execution_count": null,
   "id": "41b775ee",
   "metadata": {},
   "outputs": [],
   "source": []
  }
 ],
 "metadata": {
  "kernelspec": {
   "display_name": "Python 3 (ipykernel)",
   "language": "python",
   "name": "python3"
  },
  "language_info": {
   "codemirror_mode": {
    "name": "ipython",
    "version": 3
   },
   "file_extension": ".py",
   "mimetype": "text/x-python",
   "name": "python",
   "nbconvert_exporter": "python",
   "pygments_lexer": "ipython3",
   "version": "3.9.13"
  }
 },
 "nbformat": 4,
 "nbformat_minor": 5
}
