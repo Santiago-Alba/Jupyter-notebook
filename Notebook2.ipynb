{
 "cells": [
  {
   "cell_type": "code",
   "execution_count": 1,
   "id": "2cb04d18",
   "metadata": {},
   "outputs": [
    {
     "name": "stdout",
     "output_type": "stream",
     "text": [
      "[2, 3, 5, 7, 11]\n",
      "-------------------------------\n",
      "-------------------------------\n",
      "['Jorge', 'Matias', 'Juan', 'Martin']\n",
      "-------------------------------\n",
      "[3.14, True, -1, False, 'Hola  mundo']\n"
     ]
    }
   ],
   "source": [
    "numeros_primos = [2, 3, 5, 7, 11]\n",
    "print(numeros_primos)\n",
    "\n",
    "print('-------------------------------')\n",
    "# La siguiente es una lista con nombres de  alumnos:\n",
    "print('-------------------------------')\n",
    "\n",
    "alumnos = [\"Jorge\", \"Matias\", \"Juan\",  \"Martin\"]\n",
    "print(alumnos)\n",
    "\n",
    "print('-------------------------------')\n",
    "# Y esta última una lista con valores de  distintos tipos de dato:\n",
    "\n",
    "datos = [3.14, True, -1, False, \"Hola  mundo\"]\n",
    "print(datos)"
   ]
  },
  {
   "cell_type": "code",
   "execution_count": 2,
   "id": "cdfcba90",
   "metadata": {},
   "outputs": [
    {
     "name": "stdout",
     "output_type": "stream",
     "text": [
      "<class 'list'> <class 'list'> <class 'list'>\n"
     ]
    }
   ],
   "source": [
    "print(type(numeros_primos), type(alumnos), type(datos))"
   ]
  },
  {
   "cell_type": "markdown",
   "id": "c00ea25a",
   "metadata": {},
   "source": [
    "La disposición de los elementos al momento  de crear una lista es importante.\n",
    "Las listas  son **colecciones ordenadas de objetos**.\n",
    "A  cada uno de los elementos se le asigna un  INDICE,\n",
    "que no es otra cosa que la posición en  la que se encuentra en la lista,\n",
    "empezando  desde el 0."
   ]
  },
  {
   "cell_type": "markdown",
   "id": "deea622a",
   "metadata": {},
   "source": [
    "## 3.1.1. Acceder a los elementos de una Listas\n",
    "Para acceder a un elemento de una lista a  partir de su índice,vamos a indicarlo entre  corchetes luego del nombre de la lista."
   ]
  },
  {
   "cell_type": "code",
   "execution_count": 3,
   "id": "b3a088cf",
   "metadata": {},
   "outputs": [
    {
     "name": "stdout",
     "output_type": "stream",
     "text": [
      "2\n",
      "3\n",
      "5\n",
      "7\n",
      "-----------------------\n",
      "Juan\n"
     ]
    }
   ],
   "source": [
    "print(numeros_primos[0])  \n",
    "print(numeros_primos[1])   \n",
    "print(numeros_primos[2])\n",
    "print(numeros_primos[3]) \n",
    "\n",
    "print('-----------------------')\n",
    "print(alumnos[2])"
   ]
  },
  {
   "cell_type": "markdown",
   "id": "82ef1e77",
   "metadata": {},
   "source": [
    "## 3.1.2. Agregar  elementos a una Lista\n",
    "Para realizarlos usamos las sintaxis:                                                                                            \n",
    "nombre_lista.append(elemento) # agrega un nuevo elemento al final de la lista.                                                             \n",
    "nombre_lista.insert(indice, elemento)"
   ]
  },
  {
   "cell_type": "code",
   "execution_count": 4,
   "id": "1fc731d5",
   "metadata": {},
   "outputs": [
    {
     "name": "stdout",
     "output_type": "stream",
     "text": [
      "13\n",
      "[2, 3, 5, 7, 11, 13]\n",
      "3.14\n",
      "[2, 3, 3.14, 5, 7, 11, 13]\n"
     ]
    }
   ],
   "source": [
    "numeros_primos.append(13)\n",
    "print(numeros_primos[5])\n",
    "print(numeros_primos)\n",
    "\n",
    "\n",
    "\n",
    "numeros_primos.insert(2,3.14)\n",
    "print(numeros_primos[2])\n",
    "print(numeros_primos)"
   ]
  },
  {
   "cell_type": "markdown",
   "id": "86fd511d",
   "metadata": {},
   "source": [
    "## 3.1.3. Eliminar elementos  y longitud de una Listas\n",
    "\n",
    "Para realizarlos usamos las sintaxis: \n",
    "\n",
    "del nombre_lista[indice]\n",
    "\n",
    "len(nombre_lista)\n",
    "\n",
    "Otra operación frecuente sobre listas es  obtener el número de elementos que  contiene. \n",
    "Lo conseguimos vía la instrucción  len(nombre_lista)."
   ]
  },
  {
   "cell_type": "markdown",
   "id": "6b9c2a1b",
   "metadata": {},
   "source": [
    "## 3.2. Tuplas\n",
    "\n",
    "En Python, una tupla es un conjunto  ordenado e inmutable de elementos de  este o de diferente tipo. \n",
    "Se representan  escribiendo los elementos entre paréntesis  y separados por comas. \n",
    "Se accede por el  índice, al igual que sucedía en las listas.\n",
    "Las tuplas no permiten asignación  de ítems, y tampoco tienen métodos"
   ]
  },
  {
   "cell_type": "code",
   "execution_count": 5,
   "id": "e2ec8ef8",
   "metadata": {},
   "outputs": [
    {
     "data": {
      "text/plain": [
       "tuple"
      ]
     },
     "execution_count": 5,
     "metadata": {},
     "output_type": "execute_result"
    }
   ],
   "source": [
    "datos = (10,\"Hola\",5.5,True)\n",
    "type(datos)"
   ]
  },
  {
   "cell_type": "code",
   "execution_count": 7,
   "id": "a6d96c99",
   "metadata": {},
   "outputs": [
    {
     "name": "stdout",
     "output_type": "stream",
     "text": [
      "<class 'list'>\n",
      "-----------------------\n",
      "<class 'tuple'>\n"
     ]
    }
   ],
   "source": [
    "mi_lista = [1,2,3]\n",
    "print(type(mi_lista))\n",
    "print('-----------------------')\n",
    "mi_tupla = (3,4,5)\n",
    "print(type(mi_tupla))"
   ]
  },
  {
   "cell_type": "code",
   "execution_count": 8,
   "id": "3b81b0a5",
   "metadata": {},
   "outputs": [
    {
     "name": "stdout",
     "output_type": "stream",
     "text": [
      "[1, 'two', 3, 'four']\n"
     ]
    }
   ],
   "source": [
    "# Listas vs Tuplas en Python\n",
    "\n",
    "# LISTAS son mutables\n",
    "mi_lista[1] = 'two'\n",
    "mi_lista.append('four')\n",
    "\n",
    "print(mi_lista)\n",
    "\n",
    "# TUPLAS son inmutables\n",
    "#mi_tupla[1] = 'two'\n",
    "#mi_tupla.append('four')"
   ]
  },
  {
   "cell_type": "markdown",
   "id": "1d6e0f05",
   "metadata": {},
   "source": [
    "La diferencia cultural trata de como se utilizan realmente las listas y las tuplas: \n",
    "las listas se utilizan cuando se tiene una secuencia homogénea de longitud desconocida, \n",
    "las tuplas se utilizan cuando se conoce el número de elementos de antemano debido a que \n",
    "la posición del elemento es semánticamente significativa\n",
    "Por ejemplo, supongamos tenemos una función que dentro de un directorio nos devuelve todos los archivos .py (*.py). \n",
    "Esto se debería devolver en una lista, porque no sabemos cuantos archivos podemos encontrar.\n",
    "\n",
    "Por otra parte, supongamos que necesitamos almacenar 5 valores para representar la ubicación \n",
    "de las estaciones de observación meteorológicas: id, city, state, latitude y longitude. \n",
    "Una tupla es lo más adecuado para esto en lugar de una lista"
   ]
  },
  {
   "cell_type": "markdown",
   "id": "7a55dcf8",
   "metadata": {},
   "source": [
    "## 3.3. Diccionarios\n",
    "\n",
    "Los diccionarios son colecciones, al igual  que las listas, pero sus elementos (o valores)  \n",
    "no están ordenados ni asociados a un  índice, sino a una clave. \n",
    "Entonces, decimos  que los miembros de un diccionario que  son pares de clave-valor.\n",
    "Para crear un diccionario vamos a emplear  llaves y separar sus miembros por comas,  \n",
    "que a su vez serán pares de una clave y un  valor separados por dos puntos.\n",
    "El siguiente código crea un diccionario de nombre  alumno1 cuyas claves son \"nombre\" y  \"cursos\", \n",
    "y sus valores, respectivamente,  \"Pablo\" y 3. \n",
    "Los valores de un diccionario  pueden ser de cualquier tipo de dato,  incluidos otros diccionarios y listas."
   ]
  },
  {
   "cell_type": "code",
   "execution_count": 9,
   "id": "ba27fc3b",
   "metadata": {},
   "outputs": [
    {
     "name": "stdout",
     "output_type": "stream",
     "text": [
      "Pablo\n",
      "3\n",
      "-----------------\n",
      "4\n",
      "-----------------\n",
      "Python\n"
     ]
    }
   ],
   "source": [
    "alumno1 = {\"nombre\": \"Pablo\", \"cursos\": 3}\n",
    "\n",
    "# Para acceder a los valores\n",
    "\n",
    "print(alumno1[\"nombre\"])  \n",
    "print(alumno1[\"cursos\"])\n",
    "print('-----------------')\n",
    "\n",
    "# Para cambiar los valores\n",
    "\n",
    "alumno1[\"cursos\"] = 4\n",
    "print(alumno1[\"cursos\"])\n",
    "print('-----------------')\n",
    "\n",
    "# Para crear nuevos pares CLAVE:VALOR\n",
    "\n",
    "alumno1[\"curso_actual\"] = \"Python\"\n",
    "print(alumno1[\"curso_actual\"])"
   ]
  },
  {
   "cell_type": "code",
   "execution_count": null,
   "id": "c58c55eb",
   "metadata": {},
   "outputs": [],
   "source": []
  }
 ],
 "metadata": {
  "kernelspec": {
   "display_name": "Python 3 (ipykernel)",
   "language": "python",
   "name": "python3"
  },
  "language_info": {
   "codemirror_mode": {
    "name": "ipython",
    "version": 3
   },
   "file_extension": ".py",
   "mimetype": "text/x-python",
   "name": "python",
   "nbconvert_exporter": "python",
   "pygments_lexer": "ipython3",
   "version": "3.9.13"
  }
 },
 "nbformat": 4,
 "nbformat_minor": 5
}
