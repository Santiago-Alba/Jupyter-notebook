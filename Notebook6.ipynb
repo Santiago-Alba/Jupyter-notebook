{
 "cells": [
  {
   "cell_type": "markdown",
   "id": "97b0161a",
   "metadata": {},
   "source": [
    "### Link de Material Complementario\n",
    "\n",
    "https://1drv.ms/u/s!Anh5cvrOJtUTk942w5OEyvQLHGSNeA?e=8kNbX4"
   ]
  },
  {
   "cell_type": "markdown",
   "id": "c87e228c",
   "metadata": {},
   "source": [
    "# MODULO 3 - Biblioteca Numpy 3"
   ]
  },
  {
   "cell_type": "markdown",
   "id": "a0cbff06",
   "metadata": {},
   "source": [
    "## 3.1. Missing Values\n",
    "¿Qué sucede con las funciones y métodos cuando el array  tiene missing values?\n",
    "Están diseñadas para propagar el valor al resultado ﬁnal.      \n",
    "Para ignorar los missing values se deben usar las funciones  **nansum**, **nanprod**, **nanmean**, **nanstd**, **nanvar**, **nanmin**,  **nanmax**, etc. Estas funciones no tienen métodos equivalentes."
   ]
  },
  {
   "cell_type": "code",
   "execution_count": 2,
   "id": "aa7d083f",
   "metadata": {},
   "outputs": [],
   "source": [
    "import numpy as np"
   ]
  },
  {
   "cell_type": "code",
   "execution_count": 3,
   "id": "f0ed1e9a",
   "metadata": {},
   "outputs": [
    {
     "data": {
      "text/plain": [
       "array([ 1.,  1., nan,  1.])"
      ]
     },
     "execution_count": 3,
     "metadata": {},
     "output_type": "execute_result"
    }
   ],
   "source": [
    "a= np.array([1, 1, np.nan, 1])\n",
    "a"
   ]
  },
  {
   "cell_type": "code",
   "execution_count": 4,
   "id": "a862cfd0",
   "metadata": {},
   "outputs": [
    {
     "data": {
      "text/plain": [
       "(nan, nan, nan)"
      ]
     },
     "execution_count": 4,
     "metadata": {},
     "output_type": "execute_result"
    }
   ],
   "source": [
    "a.mean(), np.max(a), a.sum()"
   ]
  },
  {
   "cell_type": "code",
   "execution_count": 5,
   "id": "d6703006",
   "metadata": {},
   "outputs": [
    {
     "data": {
      "text/plain": [
       "(1.0, 1.0, 3.0)"
      ]
     },
     "execution_count": 5,
     "metadata": {},
     "output_type": "execute_result"
    }
   ],
   "source": [
    "np.nanmean(a), np.nanmax(a), np.nansum(a)"
   ]
  },
  {
   "cell_type": "markdown",
   "id": "96db6ec0",
   "metadata": {},
   "source": [
    "# MODULO 3 - Biblioteca Numpy 4"
   ]
  },
  {
   "cell_type": "markdown",
   "id": "84797b17",
   "metadata": {},
   "source": [
    "## 4.1.- Álgebra Lineal\n",
    "Hemos visto hay numerosas operaciones que se  pueden hacer con arrays. Algunas son elemento a  elemento, otras son sobre el conjunto de los datos, o  en alguno de los ejes.\n",
    "Además de todo eso, Numpy implementa muchas  operaciones de álgebra lineal, como producto escalar  entre vectores, producto matricial, cálculo de  determinante, matriz inversa, etc."
   ]
  },
  {
   "cell_type": "markdown",
   "id": "2aa4a65c",
   "metadata": {},
   "source": [
    "### 4.1.1.- Producto Escalar\n",
    "Recordemos qué es el producto escalar de  dos vectores. Si tenemos los vectores v y w el  producto escalar es:\n",
    "![imagen](producto_escalar.png)"
   ]
  },
  {
   "cell_type": "code",
   "execution_count": 6,
   "id": "1151081a",
   "metadata": {},
   "outputs": [
    {
     "name": "stdout",
     "output_type": "stream",
     "text": [
      "59\n",
      "59\n"
     ]
    }
   ],
   "source": [
    "v = np.array([5, 3, 2, 6])\n",
    "w = np.array([1, 2, 0, 8])\n",
    "\n",
    "print(v.dot(w))\n",
    "print (v @ w)"
   ]
  },
  {
   "cell_type": "markdown",
   "id": "8749fb1e",
   "metadata": {},
   "source": [
    "### 4.1.2.- Producto Matricial\n",
    "El método **dot** y su correspondiente operador **@**  se pueden usar también para efectuar productos  matriciales, en donde cada elemento de la nueva  matriz es el producto escalar de una ﬁla de la  primer matriz y una columna de la segunda. La  cantidad de columnas de la primer matriz debe  ser igual a la cantidad de ﬁlas de la segunda.\n",
    "![imagen](matricial.png)"
   ]
  },
  {
   "cell_type": "code",
   "execution_count": 8,
   "id": "0c5788c5",
   "metadata": {},
   "outputs": [
    {
     "name": "stdout",
     "output_type": "stream",
     "text": [
      "[[2 5 3]\n",
      " [7 1 4]]\n",
      "________________\n",
      "[[3 2]\n",
      " [9 6]\n",
      " [5 8]]\n"
     ]
    }
   ],
   "source": [
    "A = np.array([[2, 5, 3], [7, 1, 4]])\n",
    "print(A)\n",
    "print('________________')\n",
    "B = np.array([[3, 2], [9, 6],[5, 8]])\n",
    "print(B)"
   ]
  },
  {
   "cell_type": "code",
   "execution_count": 9,
   "id": "d471261c",
   "metadata": {},
   "outputs": [
    {
     "data": {
      "text/plain": [
       "array([[66, 58],\n",
       "       [50, 52]])"
      ]
     },
     "execution_count": 9,
     "metadata": {},
     "output_type": "execute_result"
    }
   ],
   "source": [
    "A.dot(B)"
   ]
  },
  {
   "cell_type": "markdown",
   "id": "d8735f0b",
   "metadata": {},
   "source": [
    "### 4.1.3.-  Matriz Transpuesta\n",
    "Cuando se trabaja con matrices es muy usual  tener que obtener la ***matriz transpuesta***. Para  obtenerla podemos usar el método transpose  o el atributo T."
   ]
  },
  {
   "cell_type": "code",
   "execution_count": 11,
   "id": "93b6cfc9",
   "metadata": {},
   "outputs": [
    {
     "name": "stdout",
     "output_type": "stream",
     "text": [
      "[[2 5 3]\n",
      " [7 1 4]]\n"
     ]
    }
   ],
   "source": [
    "A = np.array([[2, 5, 3], [7, 1, 4]])\n",
    "print(A)\n"
   ]
  },
  {
   "cell_type": "code",
   "execution_count": 12,
   "id": "d2b61b7a",
   "metadata": {},
   "outputs": [
    {
     "data": {
      "text/plain": [
       "array([[2, 7],\n",
       "       [5, 1],\n",
       "       [3, 4]])"
      ]
     },
     "execution_count": 12,
     "metadata": {},
     "output_type": "execute_result"
    }
   ],
   "source": [
    "A.T"
   ]
  },
  {
   "cell_type": "markdown",
   "id": "add6de3d",
   "metadata": {},
   "source": [
    "### 4.1.4.-  Determinate de una Matriz \n",
    "Numpy tiene un módulo dedicado a álgebra  lineal: el módulo ***linalg***, donde se implementan  muchas funciones de álgebra lineal. Una de ellas  es det, que calcula el determinante de una  matriz cuadrada."
   ]
  },
  {
   "cell_type": "code",
   "execution_count": 13,
   "id": "e0fa16ce",
   "metadata": {},
   "outputs": [
    {
     "name": "stdout",
     "output_type": "stream",
     "text": [
      "[[0 7 0]\n",
      " [0 2 6]\n",
      " [4 3 2]]\n"
     ]
    }
   ],
   "source": [
    "M = np.array([[0, 7, 0], [0, 2, 6], [4, 3, 2]])\n",
    "print(M)"
   ]
  },
  {
   "cell_type": "code",
   "execution_count": 14,
   "id": "5be675cb",
   "metadata": {},
   "outputs": [
    {
     "data": {
      "text/plain": [
       "167.99999999999997"
      ]
     },
     "execution_count": 14,
     "metadata": {},
     "output_type": "execute_result"
    }
   ],
   "source": [
    "np.linalg.det(M)"
   ]
  },
  {
   "cell_type": "markdown",
   "id": "b13b4227",
   "metadata": {},
   "source": [
    "### 4.1.5.-  Matriz Inversa\n",
    "También podemos encontrar la inversa de una matriz  cuadrada de determinante no nulo con la función **inv**."
   ]
  },
  {
   "cell_type": "code",
   "execution_count": 15,
   "id": "9fa463c1",
   "metadata": {},
   "outputs": [
    {
     "data": {
      "text/plain": [
       "array([[-0.08333333, -0.08333333,  0.25      ],\n",
       "       [ 0.14285714,  0.        ,  0.        ],\n",
       "       [-0.04761905,  0.16666667,  0.        ]])"
      ]
     },
     "execution_count": 15,
     "metadata": {},
     "output_type": "execute_result"
    }
   ],
   "source": [
    "np.linalg.inv(M)"
   ]
  },
  {
   "cell_type": "markdown",
   "id": "839ce130",
   "metadata": {},
   "source": [
    "# Modulo 4.- Pandas 1"
   ]
  },
  {
   "cell_type": "markdown",
   "id": "c574d061",
   "metadata": {},
   "source": [
    "## 1.1. Que es Pandas\n",
    "Pandas es un módulo muy popular para manipulación  y análisis de datos. Está hecho sobre Numpy y provee  estructuras de datos diseñadas para trabajar con datos estructurados (tablas). A diferencia de un array de numpy,  pandas permite trabajar con distintos tipos de datos  para cada columna asemejándose más a lo que se usa  en bases de datos relacionales.\n",
    "Tiene dos estructuras de datos: **la serie** y **el  dataframe**.\n",
    "\n",
    "El primero es un arreglo unidimensional  etiquetado y con un tipo de dato determinado.\n",
    "\n",
    "El  dataframe es una estructura bidimensional similar a  una tabla que admite etiquetas para ﬁlas y columnas.  Cada columna de un dataframe es una serie.\n",
    "![immagen](pandas.png)"
   ]
  },
  {
   "cell_type": "markdown",
   "id": "cf0b87d5",
   "metadata": {},
   "source": [
    "## 1.2. Series\n",
    "La **serie** es una estructura de datos unidimensional en donde  cada dato tiene además una etiqueta. \n",
    "Es una estructura  mutable a la que no sólo se le puede cambiar sus elementos, si no que además se le pueden agregar y quitar elementos.\n",
    "\n",
    "Se reﬁere a las etiquetas colectivamente como **index**, y las  etiquetas no tienen por qué ser únicas.      \n",
    "Estas etiquetas  añaden funcionalidad para manipular los datos. Para crear  una serie se usa el constructor **pd.Series()** que es capaz de  convertir a serie distintas estructuras como listas,  diccionarios, arrays, etc.      \n",
    "También tiene un atributo nombre,  que es el que se utiliza como etiqueta de la columna cuando  forma parte de un dataframe."
   ]
  },
  {
   "cell_type": "code",
   "execution_count": 16,
   "id": "d96a4687",
   "metadata": {},
   "outputs": [],
   "source": [
    "import pandas as pd\n",
    "import numpy as np"
   ]
  },
  {
   "cell_type": "code",
   "execution_count": 17,
   "id": "8bac3817",
   "metadata": {},
   "outputs": [
    {
     "data": {
      "text/plain": [
       "0    5\n",
       "1    7\n",
       "2    2\n",
       "dtype: int64"
      ]
     },
     "execution_count": 17,
     "metadata": {},
     "output_type": "execute_result"
    }
   ],
   "source": [
    "pd.Series([5, 7, 2])"
   ]
  },
  {
   "cell_type": "code",
   "execution_count": 18,
   "id": "a29297de",
   "metadata": {},
   "outputs": [
    {
     "data": {
      "text/plain": [
       "a    5\n",
       "b    7\n",
       "c    2\n",
       "Name: numeros, dtype: int8"
      ]
     },
     "execution_count": 18,
     "metadata": {},
     "output_type": "execute_result"
    }
   ],
   "source": [
    "pd.Series([5, 7, 2], index = ['a', 'b', 'c'], dtype = 'int8', name = 'numeros')"
   ]
  },
  {
   "cell_type": "code",
   "execution_count": 19,
   "id": "de965707",
   "metadata": {},
   "outputs": [
    {
     "data": {
      "text/plain": [
       "Martin    8\n",
       "Juan      9\n",
       "Lucia     7\n",
       "Name: notas, dtype: int64"
      ]
     },
     "execution_count": 19,
     "metadata": {},
     "output_type": "execute_result"
    }
   ],
   "source": [
    "pd.Series({'Martin': 8, 'Juan': 9, 'Lucia': 7}, name = 'notas')"
   ]
  },
  {
   "cell_type": "markdown",
   "id": "a207cfde",
   "metadata": {},
   "source": [
    "## 1.3. Dataframe\n",
    "El dataframe es la estructura más utilizada de pandas. Es  una estructura bidimensional tipo tabla con etiquetas para  ﬁlas y columnas, lo que da más ﬂexibilidad a la hora de  manipular los datos.      \n",
    "Cada columna puede tener su propio  tipo de dato.\n",
    "Es mutable tanto en los datos como en su tamaño, por lo que  se pueden añadir o quitar ﬁlas y columnas.      \n",
    "Cada columna es  una serie en donde todas las series tienen el mismo index.\n",
    "Para crear  una serie se usa el constructor **pd.DataFrame()** que es capaz de  convertir a serie distintas estructuras como listas,  diccionarios, arrays."
   ]
  },
  {
   "cell_type": "code",
   "execution_count": 20,
   "id": "ce84b4c4",
   "metadata": {},
   "outputs": [
    {
     "data": {
      "text/html": [
       "<div>\n",
       "<style scoped>\n",
       "    .dataframe tbody tr th:only-of-type {\n",
       "        vertical-align: middle;\n",
       "    }\n",
       "\n",
       "    .dataframe tbody tr th {\n",
       "        vertical-align: top;\n",
       "    }\n",
       "\n",
       "    .dataframe thead th {\n",
       "        text-align: right;\n",
       "    }\n",
       "</style>\n",
       "<table border=\"1\" class=\"dataframe\">\n",
       "  <thead>\n",
       "    <tr style=\"text-align: right;\">\n",
       "      <th></th>\n",
       "      <th>0</th>\n",
       "      <th>1</th>\n",
       "      <th>2</th>\n",
       "    </tr>\n",
       "  </thead>\n",
       "  <tbody>\n",
       "    <tr>\n",
       "      <th>0</th>\n",
       "      <td>0</td>\n",
       "      <td>1</td>\n",
       "      <td>2</td>\n",
       "    </tr>\n",
       "    <tr>\n",
       "      <th>1</th>\n",
       "      <td>3</td>\n",
       "      <td>3</td>\n",
       "      <td>5</td>\n",
       "    </tr>\n",
       "    <tr>\n",
       "      <th>2</th>\n",
       "      <td>6</td>\n",
       "      <td>7</td>\n",
       "      <td>8</td>\n",
       "    </tr>\n",
       "  </tbody>\n",
       "</table>\n",
       "</div>"
      ],
      "text/plain": [
       "   0  1  2\n",
       "0  0  1  2\n",
       "1  3  3  5\n",
       "2  6  7  8"
      ]
     },
     "execution_count": 20,
     "metadata": {},
     "output_type": "execute_result"
    }
   ],
   "source": [
    "# desde listas anidadas\n",
    "\n",
    "pd.DataFrame([[0, 1, 2], [3, 3, 5], [6, 7, 8]])"
   ]
  },
  {
   "cell_type": "code",
   "execution_count": 21,
   "id": "daa6b51d",
   "metadata": {},
   "outputs": [
    {
     "data": {
      "text/html": [
       "<div>\n",
       "<style scoped>\n",
       "    .dataframe tbody tr th:only-of-type {\n",
       "        vertical-align: middle;\n",
       "    }\n",
       "\n",
       "    .dataframe tbody tr th {\n",
       "        vertical-align: top;\n",
       "    }\n",
       "\n",
       "    .dataframe thead th {\n",
       "        text-align: right;\n",
       "    }\n",
       "</style>\n",
       "<table border=\"1\" class=\"dataframe\">\n",
       "  <thead>\n",
       "    <tr style=\"text-align: right;\">\n",
       "      <th></th>\n",
       "      <th>lunes</th>\n",
       "      <th>martes</th>\n",
       "      <th>miercoles</th>\n",
       "    </tr>\n",
       "  </thead>\n",
       "  <tbody>\n",
       "    <tr>\n",
       "      <th>a</th>\n",
       "      <td>0</td>\n",
       "      <td>1</td>\n",
       "      <td>2</td>\n",
       "    </tr>\n",
       "    <tr>\n",
       "      <th>b</th>\n",
       "      <td>3</td>\n",
       "      <td>3</td>\n",
       "      <td>5</td>\n",
       "    </tr>\n",
       "    <tr>\n",
       "      <th>c</th>\n",
       "      <td>6</td>\n",
       "      <td>7</td>\n",
       "      <td>8</td>\n",
       "    </tr>\n",
       "  </tbody>\n",
       "</table>\n",
       "</div>"
      ],
      "text/plain": [
       "   lunes  martes  miercoles\n",
       "a      0       1          2\n",
       "b      3       3          5\n",
       "c      6       7          8"
      ]
     },
     "execution_count": 21,
     "metadata": {},
     "output_type": "execute_result"
    }
   ],
   "source": [
    "# desde listas anidadas y definiendo index y columnas\n",
    "\n",
    "pd.DataFrame([[0, 1, 2], [3, 3, 5], [6, 7, 8]], index = ['a', 'b', 'c'], columns = ['lunes', 'martes', 'miercoles'] )"
   ]
  },
  {
   "cell_type": "code",
   "execution_count": 22,
   "id": "00180234",
   "metadata": {},
   "outputs": [
    {
     "data": {
      "text/plain": [
       "array([[32, 14,  9,  3, 19],\n",
       "       [47, 11, 46, 17, 48],\n",
       "       [36, 10, 31, 31, 41]])"
      ]
     },
     "execution_count": 22,
     "metadata": {},
     "output_type": "execute_result"
    }
   ],
   "source": [
    "# desde un array de numpy\n",
    "\n",
    "array = np.random.randint(0, 50, (3,5))\n",
    "array"
   ]
  },
  {
   "cell_type": "code",
   "execution_count": 23,
   "id": "2920eee0",
   "metadata": {},
   "outputs": [
    {
     "data": {
      "text/html": [
       "<div>\n",
       "<style scoped>\n",
       "    .dataframe tbody tr th:only-of-type {\n",
       "        vertical-align: middle;\n",
       "    }\n",
       "\n",
       "    .dataframe tbody tr th {\n",
       "        vertical-align: top;\n",
       "    }\n",
       "\n",
       "    .dataframe thead th {\n",
       "        text-align: right;\n",
       "    }\n",
       "</style>\n",
       "<table border=\"1\" class=\"dataframe\">\n",
       "  <thead>\n",
       "    <tr style=\"text-align: right;\">\n",
       "      <th></th>\n",
       "      <th>0</th>\n",
       "      <th>1</th>\n",
       "      <th>2</th>\n",
       "      <th>3</th>\n",
       "      <th>4</th>\n",
       "    </tr>\n",
       "  </thead>\n",
       "  <tbody>\n",
       "    <tr>\n",
       "      <th>0</th>\n",
       "      <td>32</td>\n",
       "      <td>14</td>\n",
       "      <td>9</td>\n",
       "      <td>3</td>\n",
       "      <td>19</td>\n",
       "    </tr>\n",
       "    <tr>\n",
       "      <th>1</th>\n",
       "      <td>47</td>\n",
       "      <td>11</td>\n",
       "      <td>46</td>\n",
       "      <td>17</td>\n",
       "      <td>48</td>\n",
       "    </tr>\n",
       "    <tr>\n",
       "      <th>2</th>\n",
       "      <td>36</td>\n",
       "      <td>10</td>\n",
       "      <td>31</td>\n",
       "      <td>31</td>\n",
       "      <td>41</td>\n",
       "    </tr>\n",
       "  </tbody>\n",
       "</table>\n",
       "</div>"
      ],
      "text/plain": [
       "    0   1   2   3   4\n",
       "0  32  14   9   3  19\n",
       "1  47  11  46  17  48\n",
       "2  36  10  31  31  41"
      ]
     },
     "execution_count": 23,
     "metadata": {},
     "output_type": "execute_result"
    }
   ],
   "source": [
    "pd.DataFrame(array)"
   ]
  },
  {
   "cell_type": "code",
   "execution_count": 24,
   "id": "56680d33",
   "metadata": {},
   "outputs": [
    {
     "data": {
      "text/html": [
       "<div>\n",
       "<style scoped>\n",
       "    .dataframe tbody tr th:only-of-type {\n",
       "        vertical-align: middle;\n",
       "    }\n",
       "\n",
       "    .dataframe tbody tr th {\n",
       "        vertical-align: top;\n",
       "    }\n",
       "\n",
       "    .dataframe thead th {\n",
       "        text-align: right;\n",
       "    }\n",
       "</style>\n",
       "<table border=\"1\" class=\"dataframe\">\n",
       "  <thead>\n",
       "    <tr style=\"text-align: right;\">\n",
       "      <th></th>\n",
       "      <th>Columna 1</th>\n",
       "      <th>Columna 2</th>\n",
       "    </tr>\n",
       "  </thead>\n",
       "  <tbody>\n",
       "    <tr>\n",
       "      <th>A</th>\n",
       "      <td>1</td>\n",
       "      <td>4</td>\n",
       "    </tr>\n",
       "    <tr>\n",
       "      <th>B</th>\n",
       "      <td>2</td>\n",
       "      <td>5</td>\n",
       "    </tr>\n",
       "    <tr>\n",
       "      <th>C</th>\n",
       "      <td>3</td>\n",
       "      <td>6</td>\n",
       "    </tr>\n",
       "  </tbody>\n",
       "</table>\n",
       "</div>"
      ],
      "text/plain": [
       "   Columna 1  Columna 2\n",
       "A          1          4\n",
       "B          2          5\n",
       "C          3          6"
      ]
     },
     "execution_count": 24,
     "metadata": {},
     "output_type": "execute_result"
    }
   ],
   "source": [
    "# desde un diccionario\n",
    "\n",
    "pd.DataFrame({'Columna 1': [1, 2, 3], 'Columna 2': [4, 5, 6]}, index = ['A', 'B', 'C'])"
   ]
  },
  {
   "cell_type": "markdown",
   "id": "fd16d08a",
   "metadata": {},
   "source": [
    "## 1.4. Lectura de archivos con Pandas\n",
    "Pandas tiene numerosas funciones para leer diferentes  formatos de archivos y construir dataframes a partir de ellos.    \n",
    "Esto facilita enormemente la tarea de importar los datos.\n",
    "Entre los formatos que se pueden leer podemos encontrar  csv, excel, json, html, sql, entre otros.\n",
    "Los nombres de estas funciones empiezan con el preﬁjo  **read_**, por ejemplo, **pd.read_csv**, **pd.read_excel**, etc.    \n",
    "Cada una de estas funciones tiene numerosos parámetros  para controlar cómo se realiza la lectura si es necesario."
   ]
  },
  {
   "cell_type": "markdown",
   "id": "926ccb84",
   "metadata": {},
   "source": [
    "Para practicar las funcionalidades que ofrece pandas vamos a  trabajar con un dataset muy conocido, el del Titanic.    \n",
    "En el  material del Alumni se provee el archivo **“titanic.csv”**, que  vamos a abrir con la función **read_csv**.    \n",
    "El primer parámetro  puede ser un string con la ruta absoluta o relativa al archivo.  Si el archivo se encuentra en el mismo directorio que la  jupyter notebook, se puede poner simplemente el nombre  del archivo. Además, se pueden pasar URLs de archivos csv.\n",
    "La función va a crear un DataFrame a partir del archivo. En  general no hace falta especiﬁcar más parámetros pero si es  necesario se puede controlar cada detalle de cómo se realiza  la lectura del archivo."
   ]
  },
  {
   "cell_type": "code",
   "execution_count": 27,
   "id": "0e798384",
   "metadata": {},
   "outputs": [
    {
     "data": {
      "text/html": [
       "<div>\n",
       "<style scoped>\n",
       "    .dataframe tbody tr th:only-of-type {\n",
       "        vertical-align: middle;\n",
       "    }\n",
       "\n",
       "    .dataframe tbody tr th {\n",
       "        vertical-align: top;\n",
       "    }\n",
       "\n",
       "    .dataframe thead th {\n",
       "        text-align: right;\n",
       "    }\n",
       "</style>\n",
       "<table border=\"1\" class=\"dataframe\">\n",
       "  <thead>\n",
       "    <tr style=\"text-align: right;\">\n",
       "      <th></th>\n",
       "      <th>PassengerId</th>\n",
       "      <th>Survived</th>\n",
       "      <th>Pclass</th>\n",
       "      <th>Name</th>\n",
       "      <th>Sex</th>\n",
       "      <th>Age</th>\n",
       "      <th>SibSp</th>\n",
       "      <th>Parch</th>\n",
       "      <th>Ticket</th>\n",
       "      <th>Fare</th>\n",
       "      <th>Cabin</th>\n",
       "      <th>Embarked</th>\n",
       "    </tr>\n",
       "  </thead>\n",
       "  <tbody>\n",
       "    <tr>\n",
       "      <th>0</th>\n",
       "      <td>1</td>\n",
       "      <td>0</td>\n",
       "      <td>3</td>\n",
       "      <td>Braund, Mr. Owen Harris</td>\n",
       "      <td>male</td>\n",
       "      <td>22.0</td>\n",
       "      <td>1</td>\n",
       "      <td>0</td>\n",
       "      <td>A/5 21171</td>\n",
       "      <td>7.2500</td>\n",
       "      <td>NaN</td>\n",
       "      <td>S</td>\n",
       "    </tr>\n",
       "    <tr>\n",
       "      <th>1</th>\n",
       "      <td>2</td>\n",
       "      <td>1</td>\n",
       "      <td>1</td>\n",
       "      <td>Cumings, Mrs. John Bradley (Florence Briggs Th...</td>\n",
       "      <td>female</td>\n",
       "      <td>38.0</td>\n",
       "      <td>1</td>\n",
       "      <td>0</td>\n",
       "      <td>PC 17599</td>\n",
       "      <td>71.2833</td>\n",
       "      <td>C85</td>\n",
       "      <td>C</td>\n",
       "    </tr>\n",
       "    <tr>\n",
       "      <th>2</th>\n",
       "      <td>3</td>\n",
       "      <td>1</td>\n",
       "      <td>3</td>\n",
       "      <td>Heikkinen, Miss. Laina</td>\n",
       "      <td>female</td>\n",
       "      <td>26.0</td>\n",
       "      <td>0</td>\n",
       "      <td>0</td>\n",
       "      <td>STON/O2. 3101282</td>\n",
       "      <td>7.9250</td>\n",
       "      <td>NaN</td>\n",
       "      <td>S</td>\n",
       "    </tr>\n",
       "    <tr>\n",
       "      <th>3</th>\n",
       "      <td>4</td>\n",
       "      <td>1</td>\n",
       "      <td>1</td>\n",
       "      <td>Futrelle, Mrs. Jacques Heath (Lily May Peel)</td>\n",
       "      <td>female</td>\n",
       "      <td>35.0</td>\n",
       "      <td>1</td>\n",
       "      <td>0</td>\n",
       "      <td>113803</td>\n",
       "      <td>53.1000</td>\n",
       "      <td>C123</td>\n",
       "      <td>S</td>\n",
       "    </tr>\n",
       "    <tr>\n",
       "      <th>4</th>\n",
       "      <td>5</td>\n",
       "      <td>0</td>\n",
       "      <td>3</td>\n",
       "      <td>Allen, Mr. William Henry</td>\n",
       "      <td>male</td>\n",
       "      <td>35.0</td>\n",
       "      <td>0</td>\n",
       "      <td>0</td>\n",
       "      <td>373450</td>\n",
       "      <td>8.0500</td>\n",
       "      <td>NaN</td>\n",
       "      <td>S</td>\n",
       "    </tr>\n",
       "    <tr>\n",
       "      <th>...</th>\n",
       "      <td>...</td>\n",
       "      <td>...</td>\n",
       "      <td>...</td>\n",
       "      <td>...</td>\n",
       "      <td>...</td>\n",
       "      <td>...</td>\n",
       "      <td>...</td>\n",
       "      <td>...</td>\n",
       "      <td>...</td>\n",
       "      <td>...</td>\n",
       "      <td>...</td>\n",
       "      <td>...</td>\n",
       "    </tr>\n",
       "    <tr>\n",
       "      <th>886</th>\n",
       "      <td>887</td>\n",
       "      <td>0</td>\n",
       "      <td>2</td>\n",
       "      <td>Montvila, Rev. Juozas</td>\n",
       "      <td>male</td>\n",
       "      <td>27.0</td>\n",
       "      <td>0</td>\n",
       "      <td>0</td>\n",
       "      <td>211536</td>\n",
       "      <td>13.0000</td>\n",
       "      <td>NaN</td>\n",
       "      <td>S</td>\n",
       "    </tr>\n",
       "    <tr>\n",
       "      <th>887</th>\n",
       "      <td>888</td>\n",
       "      <td>1</td>\n",
       "      <td>1</td>\n",
       "      <td>Graham, Miss. Margaret Edith</td>\n",
       "      <td>female</td>\n",
       "      <td>19.0</td>\n",
       "      <td>0</td>\n",
       "      <td>0</td>\n",
       "      <td>112053</td>\n",
       "      <td>30.0000</td>\n",
       "      <td>B42</td>\n",
       "      <td>S</td>\n",
       "    </tr>\n",
       "    <tr>\n",
       "      <th>888</th>\n",
       "      <td>889</td>\n",
       "      <td>0</td>\n",
       "      <td>3</td>\n",
       "      <td>Johnston, Miss. Catherine Helen \"Carrie\"</td>\n",
       "      <td>female</td>\n",
       "      <td>NaN</td>\n",
       "      <td>1</td>\n",
       "      <td>2</td>\n",
       "      <td>W./C. 6607</td>\n",
       "      <td>23.4500</td>\n",
       "      <td>NaN</td>\n",
       "      <td>S</td>\n",
       "    </tr>\n",
       "    <tr>\n",
       "      <th>889</th>\n",
       "      <td>890</td>\n",
       "      <td>1</td>\n",
       "      <td>1</td>\n",
       "      <td>Behr, Mr. Karl Howell</td>\n",
       "      <td>male</td>\n",
       "      <td>26.0</td>\n",
       "      <td>0</td>\n",
       "      <td>0</td>\n",
       "      <td>111369</td>\n",
       "      <td>30.0000</td>\n",
       "      <td>C148</td>\n",
       "      <td>C</td>\n",
       "    </tr>\n",
       "    <tr>\n",
       "      <th>890</th>\n",
       "      <td>891</td>\n",
       "      <td>0</td>\n",
       "      <td>3</td>\n",
       "      <td>Dooley, Mr. Patrick</td>\n",
       "      <td>male</td>\n",
       "      <td>32.0</td>\n",
       "      <td>0</td>\n",
       "      <td>0</td>\n",
       "      <td>370376</td>\n",
       "      <td>7.7500</td>\n",
       "      <td>NaN</td>\n",
       "      <td>Q</td>\n",
       "    </tr>\n",
       "  </tbody>\n",
       "</table>\n",
       "<p>891 rows × 12 columns</p>\n",
       "</div>"
      ],
      "text/plain": [
       "     PassengerId  Survived  Pclass  \\\n",
       "0              1         0       3   \n",
       "1              2         1       1   \n",
       "2              3         1       3   \n",
       "3              4         1       1   \n",
       "4              5         0       3   \n",
       "..           ...       ...     ...   \n",
       "886          887         0       2   \n",
       "887          888         1       1   \n",
       "888          889         0       3   \n",
       "889          890         1       1   \n",
       "890          891         0       3   \n",
       "\n",
       "                                                  Name     Sex   Age  SibSp  \\\n",
       "0                              Braund, Mr. Owen Harris    male  22.0      1   \n",
       "1    Cumings, Mrs. John Bradley (Florence Briggs Th...  female  38.0      1   \n",
       "2                               Heikkinen, Miss. Laina  female  26.0      0   \n",
       "3         Futrelle, Mrs. Jacques Heath (Lily May Peel)  female  35.0      1   \n",
       "4                             Allen, Mr. William Henry    male  35.0      0   \n",
       "..                                                 ...     ...   ...    ...   \n",
       "886                              Montvila, Rev. Juozas    male  27.0      0   \n",
       "887                       Graham, Miss. Margaret Edith  female  19.0      0   \n",
       "888           Johnston, Miss. Catherine Helen \"Carrie\"  female   NaN      1   \n",
       "889                              Behr, Mr. Karl Howell    male  26.0      0   \n",
       "890                                Dooley, Mr. Patrick    male  32.0      0   \n",
       "\n",
       "     Parch            Ticket     Fare Cabin Embarked  \n",
       "0        0         A/5 21171   7.2500   NaN        S  \n",
       "1        0          PC 17599  71.2833   C85        C  \n",
       "2        0  STON/O2. 3101282   7.9250   NaN        S  \n",
       "3        0            113803  53.1000  C123        S  \n",
       "4        0            373450   8.0500   NaN        S  \n",
       "..     ...               ...      ...   ...      ...  \n",
       "886      0            211536  13.0000   NaN        S  \n",
       "887      0            112053  30.0000   B42        S  \n",
       "888      2        W./C. 6607  23.4500   NaN        S  \n",
       "889      0            111369  30.0000  C148        C  \n",
       "890      0            370376   7.7500   NaN        Q  \n",
       "\n",
       "[891 rows x 12 columns]"
      ]
     },
     "execution_count": 27,
     "metadata": {},
     "output_type": "execute_result"
    }
   ],
   "source": [
    "data = pd.read_csv('titanic.csv')\n",
    "data"
   ]
  },
  {
   "cell_type": "code",
   "execution_count": 28,
   "id": "9b5b9fa9",
   "metadata": {},
   "outputs": [],
   "source": [
    "#pd.set_option(\"max_colwidth\", None)\n",
    "\n",
    "#pd.set_option('display.max_rows', None)"
   ]
  },
  {
   "cell_type": "markdown",
   "id": "a1c4e025",
   "metadata": {},
   "source": [
    "Para mostrar todas las filas, establezca max_rows mayor que el número de filas del DataFrame. Para mostrar más de 10 filas cuando se trunca el DataFrame, establezca min_rows mayor que 10. Con más de 200 filas de datos, si max_rows es 200 y min_rows es 20, se mostrarán 10 desde la cabeza y 10 desde la cola. Con más de 200 filas de datos, si max_rows es 200 y min_rows es Ninguno, se mostrarán 100 desde la cabeza y 100 desde la cola."
   ]
  },
  {
   "cell_type": "markdown",
   "id": "a4a18865",
   "metadata": {},
   "source": [
    "## 1.5. Explorando el Dataframe\n",
    "\n",
    "Se pueden visualizar ﬁlas del comienzo del dataframe con el  método **head**, y del ﬁnal con el método **tail**. En ambos se  puede especiﬁcar la cantidad de ﬁlas a imprimir.    \n",
    "El método  **info** imprime información sobre un DataFrame que incluye el  tipo de índice y los tipos de columna, los valores no nulos y el  uso de memoria.\n",
    "\n",
    "También se puede ver los atributos dtype (tipo de dato de  cada columna), shape (dimensiones del dataframe),  size  (cantidad de elementos). Las etiquetas se pueden ver con los  atributos  index y columns, que además permiten  reasignarlos para modiﬁcar las etiquetas. El atributo values  devuelve una representación del dataframe como un array de  numpy."
   ]
  },
  {
   "cell_type": "code",
   "execution_count": 29,
   "id": "45690f98",
   "metadata": {
    "scrolled": true
   },
   "outputs": [
    {
     "data": {
      "text/html": [
       "<div>\n",
       "<style scoped>\n",
       "    .dataframe tbody tr th:only-of-type {\n",
       "        vertical-align: middle;\n",
       "    }\n",
       "\n",
       "    .dataframe tbody tr th {\n",
       "        vertical-align: top;\n",
       "    }\n",
       "\n",
       "    .dataframe thead th {\n",
       "        text-align: right;\n",
       "    }\n",
       "</style>\n",
       "<table border=\"1\" class=\"dataframe\">\n",
       "  <thead>\n",
       "    <tr style=\"text-align: right;\">\n",
       "      <th></th>\n",
       "      <th>PassengerId</th>\n",
       "      <th>Survived</th>\n",
       "      <th>Pclass</th>\n",
       "      <th>Name</th>\n",
       "      <th>Sex</th>\n",
       "      <th>Age</th>\n",
       "      <th>SibSp</th>\n",
       "      <th>Parch</th>\n",
       "      <th>Ticket</th>\n",
       "      <th>Fare</th>\n",
       "      <th>Cabin</th>\n",
       "      <th>Embarked</th>\n",
       "    </tr>\n",
       "  </thead>\n",
       "  <tbody>\n",
       "    <tr>\n",
       "      <th>886</th>\n",
       "      <td>887</td>\n",
       "      <td>0</td>\n",
       "      <td>2</td>\n",
       "      <td>Montvila, Rev. Juozas</td>\n",
       "      <td>male</td>\n",
       "      <td>27.0</td>\n",
       "      <td>0</td>\n",
       "      <td>0</td>\n",
       "      <td>211536</td>\n",
       "      <td>13.00</td>\n",
       "      <td>NaN</td>\n",
       "      <td>S</td>\n",
       "    </tr>\n",
       "    <tr>\n",
       "      <th>887</th>\n",
       "      <td>888</td>\n",
       "      <td>1</td>\n",
       "      <td>1</td>\n",
       "      <td>Graham, Miss. Margaret Edith</td>\n",
       "      <td>female</td>\n",
       "      <td>19.0</td>\n",
       "      <td>0</td>\n",
       "      <td>0</td>\n",
       "      <td>112053</td>\n",
       "      <td>30.00</td>\n",
       "      <td>B42</td>\n",
       "      <td>S</td>\n",
       "    </tr>\n",
       "    <tr>\n",
       "      <th>888</th>\n",
       "      <td>889</td>\n",
       "      <td>0</td>\n",
       "      <td>3</td>\n",
       "      <td>Johnston, Miss. Catherine Helen \"Carrie\"</td>\n",
       "      <td>female</td>\n",
       "      <td>NaN</td>\n",
       "      <td>1</td>\n",
       "      <td>2</td>\n",
       "      <td>W./C. 6607</td>\n",
       "      <td>23.45</td>\n",
       "      <td>NaN</td>\n",
       "      <td>S</td>\n",
       "    </tr>\n",
       "    <tr>\n",
       "      <th>889</th>\n",
       "      <td>890</td>\n",
       "      <td>1</td>\n",
       "      <td>1</td>\n",
       "      <td>Behr, Mr. Karl Howell</td>\n",
       "      <td>male</td>\n",
       "      <td>26.0</td>\n",
       "      <td>0</td>\n",
       "      <td>0</td>\n",
       "      <td>111369</td>\n",
       "      <td>30.00</td>\n",
       "      <td>C148</td>\n",
       "      <td>C</td>\n",
       "    </tr>\n",
       "    <tr>\n",
       "      <th>890</th>\n",
       "      <td>891</td>\n",
       "      <td>0</td>\n",
       "      <td>3</td>\n",
       "      <td>Dooley, Mr. Patrick</td>\n",
       "      <td>male</td>\n",
       "      <td>32.0</td>\n",
       "      <td>0</td>\n",
       "      <td>0</td>\n",
       "      <td>370376</td>\n",
       "      <td>7.75</td>\n",
       "      <td>NaN</td>\n",
       "      <td>Q</td>\n",
       "    </tr>\n",
       "  </tbody>\n",
       "</table>\n",
       "</div>"
      ],
      "text/plain": [
       "     PassengerId  Survived  Pclass                                      Name  \\\n",
       "886          887         0       2                     Montvila, Rev. Juozas   \n",
       "887          888         1       1              Graham, Miss. Margaret Edith   \n",
       "888          889         0       3  Johnston, Miss. Catherine Helen \"Carrie\"   \n",
       "889          890         1       1                     Behr, Mr. Karl Howell   \n",
       "890          891         0       3                       Dooley, Mr. Patrick   \n",
       "\n",
       "        Sex   Age  SibSp  Parch      Ticket   Fare Cabin Embarked  \n",
       "886    male  27.0      0      0      211536  13.00   NaN        S  \n",
       "887  female  19.0      0      0      112053  30.00   B42        S  \n",
       "888  female   NaN      1      2  W./C. 6607  23.45   NaN        S  \n",
       "889    male  26.0      0      0      111369  30.00  C148        C  \n",
       "890    male  32.0      0      0      370376   7.75   NaN        Q  "
      ]
     },
     "execution_count": 29,
     "metadata": {},
     "output_type": "execute_result"
    }
   ],
   "source": [
    "data.tail(5)"
   ]
  },
  {
   "cell_type": "code",
   "execution_count": 30,
   "id": "42184723",
   "metadata": {
    "scrolled": true
   },
   "outputs": [
    {
     "name": "stdout",
     "output_type": "stream",
     "text": [
      "<class 'pandas.core.frame.DataFrame'>\n",
      "RangeIndex: 891 entries, 0 to 890\n",
      "Data columns (total 12 columns):\n",
      " #   Column       Non-Null Count  Dtype  \n",
      "---  ------       --------------  -----  \n",
      " 0   PassengerId  891 non-null    int64  \n",
      " 1   Survived     891 non-null    int64  \n",
      " 2   Pclass       891 non-null    int64  \n",
      " 3   Name         891 non-null    object \n",
      " 4   Sex          891 non-null    object \n",
      " 5   Age          714 non-null    float64\n",
      " 6   SibSp        891 non-null    int64  \n",
      " 7   Parch        891 non-null    int64  \n",
      " 8   Ticket       891 non-null    object \n",
      " 9   Fare         891 non-null    float64\n",
      " 10  Cabin        204 non-null    object \n",
      " 11  Embarked     889 non-null    object \n",
      "dtypes: float64(2), int64(5), object(5)\n",
      "memory usage: 83.7+ KB\n"
     ]
    }
   ],
   "source": [
    "data.info()"
   ]
  },
  {
   "cell_type": "code",
   "execution_count": null,
   "id": "64c963cb",
   "metadata": {},
   "outputs": [],
   "source": []
  }
 ],
 "metadata": {
  "kernelspec": {
   "display_name": "Python 3 (ipykernel)",
   "language": "python",
   "name": "python3"
  },
  "language_info": {
   "codemirror_mode": {
    "name": "ipython",
    "version": 3
   },
   "file_extension": ".py",
   "mimetype": "text/x-python",
   "name": "python",
   "nbconvert_exporter": "python",
   "pygments_lexer": "ipython3",
   "version": "3.9.13"
  }
 },
 "nbformat": 4,
 "nbformat_minor": 5
}
