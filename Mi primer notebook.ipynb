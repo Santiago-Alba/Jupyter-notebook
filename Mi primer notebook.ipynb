{
 "cells": [
  {
   "cell_type": "markdown",
   "id": "d912d028",
   "metadata": {},
   "source": [
    "# Texto Enriquecido"
   ]
  },
  {
   "cell_type": "markdown",
   "id": "d16a3be3",
   "metadata": {},
   "source": [
    "## Encabezados\n",
    "\n",
    "Se utiliza el caracter numeral (#) para indicar un encabezado.\n",
    "El titulo principal se inicia con un solo numeral, los subtitulos con dos numerales,\n",
    "subtitulos con tres, etc. A continuacion se observa como el formato va cambiando (achicandose el tamaño de la letra)\n",
    "con titulos cada vez mas anidados."
   ]
  },
  {
   "cell_type": "markdown",
   "id": "10aecc05",
   "metadata": {},
   "source": [
    "# Encabezado 1\n",
    "## Encabezado 2\n",
    "### Encabezado 3\n",
    "#### Encabezado 4\n",
    "##### Encabezado 5"
   ]
  },
  {
   "cell_type": "markdown",
   "id": "a10f2816",
   "metadata": {},
   "source": [
    "## Estilos de texto\n",
    "\n",
    "Se puede incluir los formatos mas comunes mediante los siguientes codigos:\n",
    "    \n",
    "*Texto en cursiva*\n",
    "\n",
    "**Texto en negrita**\n",
    "\n",
    "***Texto en negrita***"
   ]
  },
  {
   "cell_type": "markdown",
   "id": "d381b13e",
   "metadata": {},
   "source": [
    "## Tablas\n",
    "\n",
    "Las tablas pueden contener numeros, letras, formulas, imagenes... Se puede determinar la alineacion de las columnas, pero puede\n",
    "ser que en algunos navegadores no se respete. A continuacion se muestra el modo en que se ingresa la tabla.\n",
    "\n",
    "|Nombre|Apellido|\n",
    "|:--- |---: |\n",
    "|Luis |Jimenez |\n",
    "|Luis |Jimenez |\n",
    "|Luis |Jimenez |\n",
    "|Luis |Jimenez |"
   ]
  },
  {
   "cell_type": "markdown",
   "id": "7044f09e",
   "metadata": {},
   "source": [
    "## Listas ordenadas\n",
    "\n",
    "- Item 1\n",
    "- Item 2\n",
    "    - Subitem 2.1\n",
    "    - Subitem 2.2\n",
    "        - Subitem 2.2.1"
   ]
  },
  {
   "cell_type": "markdown",
   "id": "05587b81",
   "metadata": {},
   "source": [
    "## Enlaces\n",
    "El formato para ingresar enlaces es [text](direccion http). Por ejemplo, un link a la pagina con la imagen del dia en el sitio\n",
    "de la Nasa:\n",
    "    \n",
    "http://apod.nasa.gov/apod/astropix.html\n",
    "\n",
    "[Astronomy picture of the day](https://apod.nasa.gov/apod/astropix.html)\n",
    "\n",
    "\n"
   ]
  },
  {
   "cell_type": "markdown",
   "id": "f23c5169",
   "metadata": {},
   "source": [
    "## Imagen\n",
    "\n",
    "Se agrega el signo ! antes\n",
    "\n",
    "\n",
    "![Foto hyena](hyena.png)"
   ]
  },
  {
   "cell_type": "code",
   "execution_count": null,
   "id": "21c553d5",
   "metadata": {},
   "outputs": [],
   "source": []
  },
  {
   "cell_type": "code",
   "execution_count": null,
   "id": "f14261a7",
   "metadata": {},
   "outputs": [],
   "source": []
  }
 ],
 "metadata": {
  "kernelspec": {
   "display_name": "Python 3 (ipykernel)",
   "language": "python",
   "name": "python3"
  },
  "language_info": {
   "codemirror_mode": {
    "name": "ipython",
    "version": 3
   },
   "file_extension": ".py",
   "mimetype": "text/x-python",
   "name": "python",
   "nbconvert_exporter": "python",
   "pygments_lexer": "ipython3",
   "version": "3.9.13"
  }
 },
 "nbformat": 4,
 "nbformat_minor": 5
}
